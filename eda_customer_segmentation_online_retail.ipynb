{
  "cells": [
    {
      "cell_type": "markdown",
      "id": "eec5c6d0",
      "metadata": {
        "id": "eec5c6d0"
      },
      "source": [
        "**EDA + SEGMENTASI PELANGGAN pada E-Commerce**\n",
        "\n",
        "Membantu merancang strategi prusahaan yang efektif dan efisien dengan membagi segmentasi pelanggan dan menganalisis data penjualan E-Commerce yang didasarkan pada perilaku pembelian mereka."
      ]
    },
    {
      "cell_type": "code",
      "execution_count": 3,
      "id": "c4d34cbf",
      "metadata": {
        "execution": {
          "iopub.execute_input": "2022-09-16T18:59:04.589638Z",
          "iopub.status.busy": "2022-09-16T18:59:04.588934Z",
          "iopub.status.idle": "2022-09-16T18:59:05.672312Z",
          "shell.execute_reply": "2022-09-16T18:59:05.671488Z"
        },
        "id": "c4d34cbf",
        "papermill": {
          "duration": 1.10668,
          "end_time": "2022-09-16T18:59:05.674659",
          "exception": false,
          "start_time": "2022-09-16T18:59:04.567979",
          "status": "completed"
        },
        "tags": []
      },
      "outputs": [],
      "source": [
        "import numpy as np\n",
        "import pandas as pd\n",
        "import matplotlib.pyplot as plt \n",
        "import seaborn as sns\n",
        "import warnings\n",
        "from operator import attrgetter\n",
        "import datetime as dt\n",
        "import matplotlib.colors as mcolors\n",
        "from IPython.display import display\n",
        "import warnings\n",
        "warnings.filterwarnings(\"ignore\")\n",
        "%matplotlib inline"
      ]
    },
    {
      "cell_type": "code",
      "execution_count": 4,
      "id": "1fc2d7d2",
      "metadata": {
        "execution": {
          "iopub.execute_input": "2022-09-16T18:59:05.746016Z",
          "iopub.status.busy": "2022-09-16T18:59:05.745602Z",
          "iopub.status.idle": "2022-09-16T18:59:07.086058Z",
          "shell.execute_reply": "2022-09-16T18:59:07.084859Z"
        },
        "id": "1fc2d7d2",
        "outputId": "252d8c31-d0ab-4747-e448-d6be8a58ad6c",
        "papermill": {
          "duration": 1.361091,
          "end_time": "2022-09-16T18:59:07.088280",
          "exception": false,
          "start_time": "2022-09-16T18:59:05.727189",
          "status": "completed"
        },
        "tags": [],
        "colab": {
          "base_uri": "https://localhost:8080/",
          "height": 337
        }
      },
      "outputs": [
        {
          "output_type": "execute_result",
          "data": {
            "text/plain": [
              "  InvoiceNo StockCode                          Description  Quantity  \\\n",
              "0    536365    85123A   WHITE HANGING HEART T-LIGHT HOLDER         6   \n",
              "1    536365     71053                  WHITE METAL LANTERN         6   \n",
              "2    536365    84406B       CREAM CUPID HEARTS COAT HANGER         8   \n",
              "3    536365    84029G  KNITTED UNION FLAG HOT WATER BOTTLE         6   \n",
              "4    536365    84029E       RED WOOLLY HOTTIE WHITE HEART.         6   \n",
              "\n",
              "      InvoiceDate  UnitPrice  CustomerID         Country  \n",
              "0  12/1/2010 8:26       2.55     17850.0  United Kingdom  \n",
              "1  12/1/2010 8:26       3.39     17850.0  United Kingdom  \n",
              "2  12/1/2010 8:26       2.75     17850.0  United Kingdom  \n",
              "3  12/1/2010 8:26       3.39     17850.0  United Kingdom  \n",
              "4  12/1/2010 8:26       3.39     17850.0  United Kingdom  "
            ],
            "text/html": [
              "\n",
              "  <div id=\"df-b6806c4b-3e34-4abf-becd-43d910a28138\">\n",
              "    <div class=\"colab-df-container\">\n",
              "      <div>\n",
              "<style scoped>\n",
              "    .dataframe tbody tr th:only-of-type {\n",
              "        vertical-align: middle;\n",
              "    }\n",
              "\n",
              "    .dataframe tbody tr th {\n",
              "        vertical-align: top;\n",
              "    }\n",
              "\n",
              "    .dataframe thead th {\n",
              "        text-align: right;\n",
              "    }\n",
              "</style>\n",
              "<table border=\"1\" class=\"dataframe\">\n",
              "  <thead>\n",
              "    <tr style=\"text-align: right;\">\n",
              "      <th></th>\n",
              "      <th>InvoiceNo</th>\n",
              "      <th>StockCode</th>\n",
              "      <th>Description</th>\n",
              "      <th>Quantity</th>\n",
              "      <th>InvoiceDate</th>\n",
              "      <th>UnitPrice</th>\n",
              "      <th>CustomerID</th>\n",
              "      <th>Country</th>\n",
              "    </tr>\n",
              "  </thead>\n",
              "  <tbody>\n",
              "    <tr>\n",
              "      <th>0</th>\n",
              "      <td>536365</td>\n",
              "      <td>85123A</td>\n",
              "      <td>WHITE HANGING HEART T-LIGHT HOLDER</td>\n",
              "      <td>6</td>\n",
              "      <td>12/1/2010 8:26</td>\n",
              "      <td>2.55</td>\n",
              "      <td>17850.0</td>\n",
              "      <td>United Kingdom</td>\n",
              "    </tr>\n",
              "    <tr>\n",
              "      <th>1</th>\n",
              "      <td>536365</td>\n",
              "      <td>71053</td>\n",
              "      <td>WHITE METAL LANTERN</td>\n",
              "      <td>6</td>\n",
              "      <td>12/1/2010 8:26</td>\n",
              "      <td>3.39</td>\n",
              "      <td>17850.0</td>\n",
              "      <td>United Kingdom</td>\n",
              "    </tr>\n",
              "    <tr>\n",
              "      <th>2</th>\n",
              "      <td>536365</td>\n",
              "      <td>84406B</td>\n",
              "      <td>CREAM CUPID HEARTS COAT HANGER</td>\n",
              "      <td>8</td>\n",
              "      <td>12/1/2010 8:26</td>\n",
              "      <td>2.75</td>\n",
              "      <td>17850.0</td>\n",
              "      <td>United Kingdom</td>\n",
              "    </tr>\n",
              "    <tr>\n",
              "      <th>3</th>\n",
              "      <td>536365</td>\n",
              "      <td>84029G</td>\n",
              "      <td>KNITTED UNION FLAG HOT WATER BOTTLE</td>\n",
              "      <td>6</td>\n",
              "      <td>12/1/2010 8:26</td>\n",
              "      <td>3.39</td>\n",
              "      <td>17850.0</td>\n",
              "      <td>United Kingdom</td>\n",
              "    </tr>\n",
              "    <tr>\n",
              "      <th>4</th>\n",
              "      <td>536365</td>\n",
              "      <td>84029E</td>\n",
              "      <td>RED WOOLLY HOTTIE WHITE HEART.</td>\n",
              "      <td>6</td>\n",
              "      <td>12/1/2010 8:26</td>\n",
              "      <td>3.39</td>\n",
              "      <td>17850.0</td>\n",
              "      <td>United Kingdom</td>\n",
              "    </tr>\n",
              "  </tbody>\n",
              "</table>\n",
              "</div>\n",
              "      <button class=\"colab-df-convert\" onclick=\"convertToInteractive('df-b6806c4b-3e34-4abf-becd-43d910a28138')\"\n",
              "              title=\"Convert this dataframe to an interactive table.\"\n",
              "              style=\"display:none;\">\n",
              "        \n",
              "  <svg xmlns=\"http://www.w3.org/2000/svg\" height=\"24px\"viewBox=\"0 0 24 24\"\n",
              "       width=\"24px\">\n",
              "    <path d=\"M0 0h24v24H0V0z\" fill=\"none\"/>\n",
              "    <path d=\"M18.56 5.44l.94 2.06.94-2.06 2.06-.94-2.06-.94-.94-2.06-.94 2.06-2.06.94zm-11 1L8.5 8.5l.94-2.06 2.06-.94-2.06-.94L8.5 2.5l-.94 2.06-2.06.94zm10 10l.94 2.06.94-2.06 2.06-.94-2.06-.94-.94-2.06-.94 2.06-2.06.94z\"/><path d=\"M17.41 7.96l-1.37-1.37c-.4-.4-.92-.59-1.43-.59-.52 0-1.04.2-1.43.59L10.3 9.45l-7.72 7.72c-.78.78-.78 2.05 0 2.83L4 21.41c.39.39.9.59 1.41.59.51 0 1.02-.2 1.41-.59l7.78-7.78 2.81-2.81c.8-.78.8-2.07 0-2.86zM5.41 20L4 18.59l7.72-7.72 1.47 1.35L5.41 20z\"/>\n",
              "  </svg>\n",
              "      </button>\n",
              "      \n",
              "  <style>\n",
              "    .colab-df-container {\n",
              "      display:flex;\n",
              "      flex-wrap:wrap;\n",
              "      gap: 12px;\n",
              "    }\n",
              "\n",
              "    .colab-df-convert {\n",
              "      background-color: #E8F0FE;\n",
              "      border: none;\n",
              "      border-radius: 50%;\n",
              "      cursor: pointer;\n",
              "      display: none;\n",
              "      fill: #1967D2;\n",
              "      height: 32px;\n",
              "      padding: 0 0 0 0;\n",
              "      width: 32px;\n",
              "    }\n",
              "\n",
              "    .colab-df-convert:hover {\n",
              "      background-color: #E2EBFA;\n",
              "      box-shadow: 0px 1px 2px rgba(60, 64, 67, 0.3), 0px 1px 3px 1px rgba(60, 64, 67, 0.15);\n",
              "      fill: #174EA6;\n",
              "    }\n",
              "\n",
              "    [theme=dark] .colab-df-convert {\n",
              "      background-color: #3B4455;\n",
              "      fill: #D2E3FC;\n",
              "    }\n",
              "\n",
              "    [theme=dark] .colab-df-convert:hover {\n",
              "      background-color: #434B5C;\n",
              "      box-shadow: 0px 1px 3px 1px rgba(0, 0, 0, 0.15);\n",
              "      filter: drop-shadow(0px 1px 2px rgba(0, 0, 0, 0.3));\n",
              "      fill: #FFFFFF;\n",
              "    }\n",
              "  </style>\n",
              "\n",
              "      <script>\n",
              "        const buttonEl =\n",
              "          document.querySelector('#df-b6806c4b-3e34-4abf-becd-43d910a28138 button.colab-df-convert');\n",
              "        buttonEl.style.display =\n",
              "          google.colab.kernel.accessAllowed ? 'block' : 'none';\n",
              "\n",
              "        async function convertToInteractive(key) {\n",
              "          const element = document.querySelector('#df-b6806c4b-3e34-4abf-becd-43d910a28138');\n",
              "          const dataTable =\n",
              "            await google.colab.kernel.invokeFunction('convertToInteractive',\n",
              "                                                     [key], {});\n",
              "          if (!dataTable) return;\n",
              "\n",
              "          const docLinkHtml = 'Like what you see? Visit the ' +\n",
              "            '<a target=\"_blank\" href=https://colab.research.google.com/notebooks/data_table.ipynb>data table notebook</a>'\n",
              "            + ' to learn more about interactive tables.';\n",
              "          element.innerHTML = '';\n",
              "          dataTable['output_type'] = 'display_data';\n",
              "          await google.colab.output.renderOutput(dataTable, element);\n",
              "          const docLink = document.createElement('div');\n",
              "          docLink.innerHTML = docLinkHtml;\n",
              "          element.appendChild(docLink);\n",
              "        }\n",
              "      </script>\n",
              "    </div>\n",
              "  </div>\n",
              "  "
            ]
          },
          "metadata": {},
          "execution_count": 4
        }
      ],
      "source": [
        "data=pd.read_csv('data.csv', encoding= 'unicode_escape')\n",
        "data.head()"
      ]
    },
    {
      "cell_type": "markdown",
      "id": "b9cbcf6c",
      "metadata": {
        "id": "b9cbcf6c",
        "papermill": {
          "duration": 0.017447,
          "end_time": "2022-09-16T18:59:07.123504",
          "exception": false,
          "start_time": "2022-09-16T18:59:07.106057",
          "status": "completed"
        },
        "tags": []
      },
      "source": [
        "## Data Cleaning"
      ]
    },
    {
      "cell_type": "code",
      "execution_count": 5,
      "id": "f7c9c521",
      "metadata": {
        "execution": {
          "iopub.execute_input": "2022-09-16T18:59:07.160641Z",
          "iopub.status.busy": "2022-09-16T18:59:07.160326Z",
          "iopub.status.idle": "2022-09-16T18:59:07.267787Z",
          "shell.execute_reply": "2022-09-16T18:59:07.266171Z"
        },
        "id": "f7c9c521",
        "outputId": "869c1b75-7ace-44ec-f0b9-19eba091f930",
        "papermill": {
          "duration": 0.128408,
          "end_time": "2022-09-16T18:59:07.269676",
          "exception": false,
          "start_time": "2022-09-16T18:59:07.141268",
          "status": "completed"
        },
        "tags": [],
        "colab": {
          "base_uri": "https://localhost:8080/"
        }
      },
      "outputs": [
        {
          "output_type": "execute_result",
          "data": {
            "text/plain": [
              "InvoiceNo           0\n",
              "StockCode           0\n",
              "Description      1454\n",
              "Quantity            0\n",
              "InvoiceDate         0\n",
              "UnitPrice           0\n",
              "CustomerID     135080\n",
              "Country             0\n",
              "dtype: int64"
            ]
          },
          "metadata": {},
          "execution_count": 5
        }
      ],
      "source": [
        "data.isnull().sum()"
      ]
    },
    {
      "cell_type": "code",
      "execution_count": 6,
      "id": "8168cb16",
      "metadata": {
        "execution": {
          "iopub.execute_input": "2022-09-16T18:59:07.306650Z",
          "iopub.status.busy": "2022-09-16T18:59:07.306343Z",
          "iopub.status.idle": "2022-09-16T18:59:07.435661Z",
          "shell.execute_reply": "2022-09-16T18:59:07.434754Z"
        },
        "id": "8168cb16",
        "outputId": "b9b09588-2d4a-46d8-f51f-f21055945548",
        "papermill": {
          "duration": 0.150271,
          "end_time": "2022-09-16T18:59:07.437511",
          "exception": false,
          "start_time": "2022-09-16T18:59:07.287240",
          "status": "completed"
        },
        "tags": [],
        "colab": {
          "base_uri": "https://localhost:8080/"
        }
      },
      "outputs": [
        {
          "output_type": "stream",
          "name": "stdout",
          "text": [
            "<class 'pandas.core.frame.DataFrame'>\n",
            "RangeIndex: 541909 entries, 0 to 541908\n",
            "Data columns (total 8 columns):\n",
            " #   Column       Non-Null Count   Dtype  \n",
            "---  ------       --------------   -----  \n",
            " 0   InvoiceNo    541909 non-null  object \n",
            " 1   StockCode    541909 non-null  object \n",
            " 2   Description  540455 non-null  object \n",
            " 3   Quantity     541909 non-null  int64  \n",
            " 4   InvoiceDate  541909 non-null  object \n",
            " 5   UnitPrice    541909 non-null  float64\n",
            " 6   CustomerID   406829 non-null  float64\n",
            " 7   Country      541909 non-null  object \n",
            "dtypes: float64(2), int64(1), object(5)\n",
            "memory usage: 33.1+ MB\n"
          ]
        }
      ],
      "source": [
        "data.info()"
      ]
    },
    {
      "cell_type": "markdown",
      "id": "00adebd7",
      "metadata": {
        "id": "00adebd7",
        "papermill": {
          "duration": 0.017939,
          "end_time": "2022-09-16T18:59:07.473586",
          "exception": false,
          "start_time": "2022-09-16T18:59:07.455647",
          "status": "completed"
        },
        "tags": []
      },
      "source": [
        "Karena ID pelanggan sangat dibutuhkan dan kami tidak memiliki cara yang dapat diandalkan untuk mengganti deskripsi, kami akan membuang poin data yang memiliki NaN di keduanya"
      ]
    },
    {
      "cell_type": "code",
      "execution_count": 7,
      "id": "7de2ffb2",
      "metadata": {
        "execution": {
          "iopub.execute_input": "2022-09-16T18:59:07.512094Z",
          "iopub.status.busy": "2022-09-16T18:59:07.511037Z",
          "iopub.status.idle": "2022-09-16T18:59:07.562225Z",
          "shell.execute_reply": "2022-09-16T18:59:07.560576Z"
        },
        "id": "7de2ffb2",
        "papermill": {
          "duration": 0.072874,
          "end_time": "2022-09-16T18:59:07.564548",
          "exception": false,
          "start_time": "2022-09-16T18:59:07.491674",
          "status": "completed"
        },
        "tags": []
      },
      "outputs": [],
      "source": [
        "data.dropna(subset=['CustomerID'], inplace=True)"
      ]
    },
    {
      "cell_type": "code",
      "execution_count": 8,
      "id": "b5481459",
      "metadata": {
        "execution": {
          "iopub.execute_input": "2022-09-16T18:59:07.606089Z",
          "iopub.status.busy": "2022-09-16T18:59:07.605726Z",
          "iopub.status.idle": "2022-09-16T18:59:07.683954Z",
          "shell.execute_reply": "2022-09-16T18:59:07.682531Z"
        },
        "id": "b5481459",
        "papermill": {
          "duration": 0.101215,
          "end_time": "2022-09-16T18:59:07.686501",
          "exception": false,
          "start_time": "2022-09-16T18:59:07.585286",
          "status": "completed"
        },
        "tags": []
      },
      "outputs": [],
      "source": [
        "data.dropna(subset=['Description'], inplace=True)"
      ]
    },
    {
      "cell_type": "code",
      "execution_count": 9,
      "id": "515060d3",
      "metadata": {
        "execution": {
          "iopub.execute_input": "2022-09-16T18:59:07.723990Z",
          "iopub.status.busy": "2022-09-16T18:59:07.723385Z",
          "iopub.status.idle": "2022-09-16T18:59:07.730816Z",
          "shell.execute_reply": "2022-09-16T18:59:07.729300Z"
        },
        "id": "515060d3",
        "outputId": "809d8fc0-df5a-4ed8-8666-fd4fe82ae029",
        "papermill": {
          "duration": 0.028468,
          "end_time": "2022-09-16T18:59:07.732927",
          "exception": false,
          "start_time": "2022-09-16T18:59:07.704459",
          "status": "completed"
        },
        "tags": [],
        "colab": {
          "base_uri": "https://localhost:8080/"
        }
      },
      "outputs": [
        {
          "output_type": "execute_result",
          "data": {
            "text/plain": [
              "(406829, 8)"
            ]
          },
          "metadata": {},
          "execution_count": 9
        }
      ],
      "source": [
        "data.shape"
      ]
    },
    {
      "cell_type": "markdown",
      "id": "8e6b3bc7",
      "metadata": {
        "id": "8e6b3bc7",
        "papermill": {
          "duration": 0.01845,
          "end_time": "2022-09-16T18:59:07.771213",
          "exception": false,
          "start_time": "2022-09-16T18:59:07.752763",
          "status": "completed"
        },
        "tags": []
      },
      "source": [
        "## EDA"
      ]
    },
    {
      "cell_type": "markdown",
      "id": "28dff4e4",
      "metadata": {
        "id": "28dff4e4",
        "papermill": {
          "duration": 0.017905,
          "end_time": "2022-09-16T18:59:07.807280",
          "exception": false,
          "start_time": "2022-09-16T18:59:07.789375",
          "status": "completed"
        },
        "tags": []
      },
      "source": [
        "Pertanyaan yang harus dijawab\n",
        "\n",
        "T- Berapa jumlah rata-rata barang yang dipesan secara keseluruhan?\n",
        "\n",
        "T- Berapa harga satuan rata-rata dari setiap item"
      ]
    },
    {
      "cell_type": "code",
      "execution_count": 10,
      "id": "2009a447",
      "metadata": {
        "execution": {
          "iopub.execute_input": "2022-09-16T18:59:07.848136Z",
          "iopub.status.busy": "2022-09-16T18:59:07.846577Z",
          "iopub.status.idle": "2022-09-16T18:59:07.905145Z",
          "shell.execute_reply": "2022-09-16T18:59:07.903368Z"
        },
        "id": "2009a447",
        "outputId": "7d95251f-dc82-4f44-b652-0219e0620e95",
        "papermill": {
          "duration": 0.080768,
          "end_time": "2022-09-16T18:59:07.907604",
          "exception": false,
          "start_time": "2022-09-16T18:59:07.826836",
          "status": "completed"
        },
        "tags": [],
        "colab": {
          "base_uri": "https://localhost:8080/",
          "height": 143
        }
      },
      "outputs": [
        {
          "output_type": "execute_result",
          "data": {
            "text/plain": [
              "               count          mean          std      min       25%       50%  \\\n",
              "Quantity    406829.0     12.061303   248.693370 -80995.0      2.00      5.00   \n",
              "UnitPrice   406829.0      3.460471    69.315162      0.0      1.25      1.95   \n",
              "CustomerID  406829.0  15287.690570  1713.600303  12346.0  13953.00  15152.00   \n",
              "\n",
              "                 75%      max  \n",
              "Quantity       12.00  80995.0  \n",
              "UnitPrice       3.75  38970.0  \n",
              "CustomerID  16791.00  18287.0  "
            ],
            "text/html": [
              "\n",
              "  <div id=\"df-fc7026f9-4bfa-42ce-9486-ba27428f2f94\">\n",
              "    <div class=\"colab-df-container\">\n",
              "      <div>\n",
              "<style scoped>\n",
              "    .dataframe tbody tr th:only-of-type {\n",
              "        vertical-align: middle;\n",
              "    }\n",
              "\n",
              "    .dataframe tbody tr th {\n",
              "        vertical-align: top;\n",
              "    }\n",
              "\n",
              "    .dataframe thead th {\n",
              "        text-align: right;\n",
              "    }\n",
              "</style>\n",
              "<table border=\"1\" class=\"dataframe\">\n",
              "  <thead>\n",
              "    <tr style=\"text-align: right;\">\n",
              "      <th></th>\n",
              "      <th>count</th>\n",
              "      <th>mean</th>\n",
              "      <th>std</th>\n",
              "      <th>min</th>\n",
              "      <th>25%</th>\n",
              "      <th>50%</th>\n",
              "      <th>75%</th>\n",
              "      <th>max</th>\n",
              "    </tr>\n",
              "  </thead>\n",
              "  <tbody>\n",
              "    <tr>\n",
              "      <th>Quantity</th>\n",
              "      <td>406829.0</td>\n",
              "      <td>12.061303</td>\n",
              "      <td>248.693370</td>\n",
              "      <td>-80995.0</td>\n",
              "      <td>2.00</td>\n",
              "      <td>5.00</td>\n",
              "      <td>12.00</td>\n",
              "      <td>80995.0</td>\n",
              "    </tr>\n",
              "    <tr>\n",
              "      <th>UnitPrice</th>\n",
              "      <td>406829.0</td>\n",
              "      <td>3.460471</td>\n",
              "      <td>69.315162</td>\n",
              "      <td>0.0</td>\n",
              "      <td>1.25</td>\n",
              "      <td>1.95</td>\n",
              "      <td>3.75</td>\n",
              "      <td>38970.0</td>\n",
              "    </tr>\n",
              "    <tr>\n",
              "      <th>CustomerID</th>\n",
              "      <td>406829.0</td>\n",
              "      <td>15287.690570</td>\n",
              "      <td>1713.600303</td>\n",
              "      <td>12346.0</td>\n",
              "      <td>13953.00</td>\n",
              "      <td>15152.00</td>\n",
              "      <td>16791.00</td>\n",
              "      <td>18287.0</td>\n",
              "    </tr>\n",
              "  </tbody>\n",
              "</table>\n",
              "</div>\n",
              "      <button class=\"colab-df-convert\" onclick=\"convertToInteractive('df-fc7026f9-4bfa-42ce-9486-ba27428f2f94')\"\n",
              "              title=\"Convert this dataframe to an interactive table.\"\n",
              "              style=\"display:none;\">\n",
              "        \n",
              "  <svg xmlns=\"http://www.w3.org/2000/svg\" height=\"24px\"viewBox=\"0 0 24 24\"\n",
              "       width=\"24px\">\n",
              "    <path d=\"M0 0h24v24H0V0z\" fill=\"none\"/>\n",
              "    <path d=\"M18.56 5.44l.94 2.06.94-2.06 2.06-.94-2.06-.94-.94-2.06-.94 2.06-2.06.94zm-11 1L8.5 8.5l.94-2.06 2.06-.94-2.06-.94L8.5 2.5l-.94 2.06-2.06.94zm10 10l.94 2.06.94-2.06 2.06-.94-2.06-.94-.94-2.06-.94 2.06-2.06.94z\"/><path d=\"M17.41 7.96l-1.37-1.37c-.4-.4-.92-.59-1.43-.59-.52 0-1.04.2-1.43.59L10.3 9.45l-7.72 7.72c-.78.78-.78 2.05 0 2.83L4 21.41c.39.39.9.59 1.41.59.51 0 1.02-.2 1.41-.59l7.78-7.78 2.81-2.81c.8-.78.8-2.07 0-2.86zM5.41 20L4 18.59l7.72-7.72 1.47 1.35L5.41 20z\"/>\n",
              "  </svg>\n",
              "      </button>\n",
              "      \n",
              "  <style>\n",
              "    .colab-df-container {\n",
              "      display:flex;\n",
              "      flex-wrap:wrap;\n",
              "      gap: 12px;\n",
              "    }\n",
              "\n",
              "    .colab-df-convert {\n",
              "      background-color: #E8F0FE;\n",
              "      border: none;\n",
              "      border-radius: 50%;\n",
              "      cursor: pointer;\n",
              "      display: none;\n",
              "      fill: #1967D2;\n",
              "      height: 32px;\n",
              "      padding: 0 0 0 0;\n",
              "      width: 32px;\n",
              "    }\n",
              "\n",
              "    .colab-df-convert:hover {\n",
              "      background-color: #E2EBFA;\n",
              "      box-shadow: 0px 1px 2px rgba(60, 64, 67, 0.3), 0px 1px 3px 1px rgba(60, 64, 67, 0.15);\n",
              "      fill: #174EA6;\n",
              "    }\n",
              "\n",
              "    [theme=dark] .colab-df-convert {\n",
              "      background-color: #3B4455;\n",
              "      fill: #D2E3FC;\n",
              "    }\n",
              "\n",
              "    [theme=dark] .colab-df-convert:hover {\n",
              "      background-color: #434B5C;\n",
              "      box-shadow: 0px 1px 3px 1px rgba(0, 0, 0, 0.15);\n",
              "      filter: drop-shadow(0px 1px 2px rgba(0, 0, 0, 0.3));\n",
              "      fill: #FFFFFF;\n",
              "    }\n",
              "  </style>\n",
              "\n",
              "      <script>\n",
              "        const buttonEl =\n",
              "          document.querySelector('#df-fc7026f9-4bfa-42ce-9486-ba27428f2f94 button.colab-df-convert');\n",
              "        buttonEl.style.display =\n",
              "          google.colab.kernel.accessAllowed ? 'block' : 'none';\n",
              "\n",
              "        async function convertToInteractive(key) {\n",
              "          const element = document.querySelector('#df-fc7026f9-4bfa-42ce-9486-ba27428f2f94');\n",
              "          const dataTable =\n",
              "            await google.colab.kernel.invokeFunction('convertToInteractive',\n",
              "                                                     [key], {});\n",
              "          if (!dataTable) return;\n",
              "\n",
              "          const docLinkHtml = 'Like what you see? Visit the ' +\n",
              "            '<a target=\"_blank\" href=https://colab.research.google.com/notebooks/data_table.ipynb>data table notebook</a>'\n",
              "            + ' to learn more about interactive tables.';\n",
              "          element.innerHTML = '';\n",
              "          dataTable['output_type'] = 'display_data';\n",
              "          await google.colab.output.renderOutput(dataTable, element);\n",
              "          const docLink = document.createElement('div');\n",
              "          docLink.innerHTML = docLinkHtml;\n",
              "          element.appendChild(docLink);\n",
              "        }\n",
              "      </script>\n",
              "    </div>\n",
              "  </div>\n",
              "  "
            ]
          },
          "metadata": {},
          "execution_count": 10
        }
      ],
      "source": [
        "data.describe().transpose()"
      ]
    },
    {
      "cell_type": "markdown",
      "id": "3b22aa68",
      "metadata": {
        "id": "3b22aa68",
        "papermill": {
          "duration": 0.017281,
          "end_time": "2022-09-16T18:59:07.943330",
          "exception": false,
          "start_time": "2022-09-16T18:59:07.926049",
          "status": "completed"
        },
        "tags": []
      },
      "source": [
        "Ans1- 12 approx.\n",
        "\n",
        "Ans2- 3.5"
      ]
    },
    {
      "cell_type": "markdown",
      "id": "9b96c2ac",
      "metadata": {
        "id": "9b96c2ac",
        "papermill": {
          "duration": 0.01792,
          "end_time": "2022-09-16T18:59:07.978948",
          "exception": false,
          "start_time": "2022-09-16T18:59:07.961028",
          "status": "completed"
        },
        "tags": []
      },
      "source": [
        "Dari tabel di atas, dapat dilihat bahwa ada pesanan dengan kuantitas negatif - kemungkinan besar pengembalian\n",
        "\n",
        "Mari kita periksa pembelian dengan pengembalian"
      ]
    },
    {
      "cell_type": "code",
      "execution_count": 11,
      "id": "b3501ccb",
      "metadata": {
        "execution": {
          "iopub.execute_input": "2022-09-16T18:59:08.017454Z",
          "iopub.status.busy": "2022-09-16T18:59:08.016649Z",
          "iopub.status.idle": "2022-09-16T18:59:08.033289Z",
          "shell.execute_reply": "2022-09-16T18:59:08.032222Z"
        },
        "id": "b3501ccb",
        "outputId": "72b96ca4-3a4f-496f-fbfb-2d2b98dfc601",
        "papermill": {
          "duration": 0.038413,
          "end_time": "2022-09-16T18:59:08.035493",
          "exception": false,
          "start_time": "2022-09-16T18:59:07.997080",
          "status": "completed"
        },
        "tags": [],
        "colab": {
          "base_uri": "https://localhost:8080/",
          "height": 337
        }
      },
      "outputs": [
        {
          "output_type": "execute_result",
          "data": {
            "text/plain": [
              "    InvoiceNo StockCode                       Description  Quantity  \\\n",
              "141   C536379         D                          Discount        -1   \n",
              "154   C536383    35004C   SET OF 3 COLOURED  FLYING DUCKS        -1   \n",
              "235   C536391     22556    PLASTERS IN TIN CIRCUS PARADE        -12   \n",
              "236   C536391     21984  PACK OF 12 PINK PAISLEY TISSUES        -24   \n",
              "237   C536391     21983  PACK OF 12 BLUE PAISLEY TISSUES        -24   \n",
              "\n",
              "         InvoiceDate  UnitPrice  CustomerID         Country  \n",
              "141   12/1/2010 9:41      27.50     14527.0  United Kingdom  \n",
              "154   12/1/2010 9:49       4.65     15311.0  United Kingdom  \n",
              "235  12/1/2010 10:24       1.65     17548.0  United Kingdom  \n",
              "236  12/1/2010 10:24       0.29     17548.0  United Kingdom  \n",
              "237  12/1/2010 10:24       0.29     17548.0  United Kingdom  "
            ],
            "text/html": [
              "\n",
              "  <div id=\"df-45440659-b587-447f-93a2-9b0a64bb816b\">\n",
              "    <div class=\"colab-df-container\">\n",
              "      <div>\n",
              "<style scoped>\n",
              "    .dataframe tbody tr th:only-of-type {\n",
              "        vertical-align: middle;\n",
              "    }\n",
              "\n",
              "    .dataframe tbody tr th {\n",
              "        vertical-align: top;\n",
              "    }\n",
              "\n",
              "    .dataframe thead th {\n",
              "        text-align: right;\n",
              "    }\n",
              "</style>\n",
              "<table border=\"1\" class=\"dataframe\">\n",
              "  <thead>\n",
              "    <tr style=\"text-align: right;\">\n",
              "      <th></th>\n",
              "      <th>InvoiceNo</th>\n",
              "      <th>StockCode</th>\n",
              "      <th>Description</th>\n",
              "      <th>Quantity</th>\n",
              "      <th>InvoiceDate</th>\n",
              "      <th>UnitPrice</th>\n",
              "      <th>CustomerID</th>\n",
              "      <th>Country</th>\n",
              "    </tr>\n",
              "  </thead>\n",
              "  <tbody>\n",
              "    <tr>\n",
              "      <th>141</th>\n",
              "      <td>C536379</td>\n",
              "      <td>D</td>\n",
              "      <td>Discount</td>\n",
              "      <td>-1</td>\n",
              "      <td>12/1/2010 9:41</td>\n",
              "      <td>27.50</td>\n",
              "      <td>14527.0</td>\n",
              "      <td>United Kingdom</td>\n",
              "    </tr>\n",
              "    <tr>\n",
              "      <th>154</th>\n",
              "      <td>C536383</td>\n",
              "      <td>35004C</td>\n",
              "      <td>SET OF 3 COLOURED  FLYING DUCKS</td>\n",
              "      <td>-1</td>\n",
              "      <td>12/1/2010 9:49</td>\n",
              "      <td>4.65</td>\n",
              "      <td>15311.0</td>\n",
              "      <td>United Kingdom</td>\n",
              "    </tr>\n",
              "    <tr>\n",
              "      <th>235</th>\n",
              "      <td>C536391</td>\n",
              "      <td>22556</td>\n",
              "      <td>PLASTERS IN TIN CIRCUS PARADE</td>\n",
              "      <td>-12</td>\n",
              "      <td>12/1/2010 10:24</td>\n",
              "      <td>1.65</td>\n",
              "      <td>17548.0</td>\n",
              "      <td>United Kingdom</td>\n",
              "    </tr>\n",
              "    <tr>\n",
              "      <th>236</th>\n",
              "      <td>C536391</td>\n",
              "      <td>21984</td>\n",
              "      <td>PACK OF 12 PINK PAISLEY TISSUES</td>\n",
              "      <td>-24</td>\n",
              "      <td>12/1/2010 10:24</td>\n",
              "      <td>0.29</td>\n",
              "      <td>17548.0</td>\n",
              "      <td>United Kingdom</td>\n",
              "    </tr>\n",
              "    <tr>\n",
              "      <th>237</th>\n",
              "      <td>C536391</td>\n",
              "      <td>21983</td>\n",
              "      <td>PACK OF 12 BLUE PAISLEY TISSUES</td>\n",
              "      <td>-24</td>\n",
              "      <td>12/1/2010 10:24</td>\n",
              "      <td>0.29</td>\n",
              "      <td>17548.0</td>\n",
              "      <td>United Kingdom</td>\n",
              "    </tr>\n",
              "  </tbody>\n",
              "</table>\n",
              "</div>\n",
              "      <button class=\"colab-df-convert\" onclick=\"convertToInteractive('df-45440659-b587-447f-93a2-9b0a64bb816b')\"\n",
              "              title=\"Convert this dataframe to an interactive table.\"\n",
              "              style=\"display:none;\">\n",
              "        \n",
              "  <svg xmlns=\"http://www.w3.org/2000/svg\" height=\"24px\"viewBox=\"0 0 24 24\"\n",
              "       width=\"24px\">\n",
              "    <path d=\"M0 0h24v24H0V0z\" fill=\"none\"/>\n",
              "    <path d=\"M18.56 5.44l.94 2.06.94-2.06 2.06-.94-2.06-.94-.94-2.06-.94 2.06-2.06.94zm-11 1L8.5 8.5l.94-2.06 2.06-.94-2.06-.94L8.5 2.5l-.94 2.06-2.06.94zm10 10l.94 2.06.94-2.06 2.06-.94-2.06-.94-.94-2.06-.94 2.06-2.06.94z\"/><path d=\"M17.41 7.96l-1.37-1.37c-.4-.4-.92-.59-1.43-.59-.52 0-1.04.2-1.43.59L10.3 9.45l-7.72 7.72c-.78.78-.78 2.05 0 2.83L4 21.41c.39.39.9.59 1.41.59.51 0 1.02-.2 1.41-.59l7.78-7.78 2.81-2.81c.8-.78.8-2.07 0-2.86zM5.41 20L4 18.59l7.72-7.72 1.47 1.35L5.41 20z\"/>\n",
              "  </svg>\n",
              "      </button>\n",
              "      \n",
              "  <style>\n",
              "    .colab-df-container {\n",
              "      display:flex;\n",
              "      flex-wrap:wrap;\n",
              "      gap: 12px;\n",
              "    }\n",
              "\n",
              "    .colab-df-convert {\n",
              "      background-color: #E8F0FE;\n",
              "      border: none;\n",
              "      border-radius: 50%;\n",
              "      cursor: pointer;\n",
              "      display: none;\n",
              "      fill: #1967D2;\n",
              "      height: 32px;\n",
              "      padding: 0 0 0 0;\n",
              "      width: 32px;\n",
              "    }\n",
              "\n",
              "    .colab-df-convert:hover {\n",
              "      background-color: #E2EBFA;\n",
              "      box-shadow: 0px 1px 2px rgba(60, 64, 67, 0.3), 0px 1px 3px 1px rgba(60, 64, 67, 0.15);\n",
              "      fill: #174EA6;\n",
              "    }\n",
              "\n",
              "    [theme=dark] .colab-df-convert {\n",
              "      background-color: #3B4455;\n",
              "      fill: #D2E3FC;\n",
              "    }\n",
              "\n",
              "    [theme=dark] .colab-df-convert:hover {\n",
              "      background-color: #434B5C;\n",
              "      box-shadow: 0px 1px 3px 1px rgba(0, 0, 0, 0.15);\n",
              "      filter: drop-shadow(0px 1px 2px rgba(0, 0, 0, 0.3));\n",
              "      fill: #FFFFFF;\n",
              "    }\n",
              "  </style>\n",
              "\n",
              "      <script>\n",
              "        const buttonEl =\n",
              "          document.querySelector('#df-45440659-b587-447f-93a2-9b0a64bb816b button.colab-df-convert');\n",
              "        buttonEl.style.display =\n",
              "          google.colab.kernel.accessAllowed ? 'block' : 'none';\n",
              "\n",
              "        async function convertToInteractive(key) {\n",
              "          const element = document.querySelector('#df-45440659-b587-447f-93a2-9b0a64bb816b');\n",
              "          const dataTable =\n",
              "            await google.colab.kernel.invokeFunction('convertToInteractive',\n",
              "                                                     [key], {});\n",
              "          if (!dataTable) return;\n",
              "\n",
              "          const docLinkHtml = 'Like what you see? Visit the ' +\n",
              "            '<a target=\"_blank\" href=https://colab.research.google.com/notebooks/data_table.ipynb>data table notebook</a>'\n",
              "            + ' to learn more about interactive tables.';\n",
              "          element.innerHTML = '';\n",
              "          dataTable['output_type'] = 'display_data';\n",
              "          await google.colab.output.renderOutput(dataTable, element);\n",
              "          const docLink = document.createElement('div');\n",
              "          docLink.innerHTML = docLinkHtml;\n",
              "          element.appendChild(docLink);\n",
              "        }\n",
              "      </script>\n",
              "    </div>\n",
              "  </div>\n",
              "  "
            ]
          },
          "metadata": {},
          "execution_count": 11
        }
      ],
      "source": [
        "# mencari jumlah pengembalian barang\n",
        "dfReturns = data[data['Quantity'] < 0]\n",
        "dfReturns.head()"
      ]
    },
    {
      "cell_type": "code",
      "execution_count": 12,
      "id": "7d989ab7",
      "metadata": {
        "execution": {
          "iopub.execute_input": "2022-09-16T18:59:08.074547Z",
          "iopub.status.busy": "2022-09-16T18:59:08.073246Z",
          "iopub.status.idle": "2022-09-16T18:59:08.079951Z",
          "shell.execute_reply": "2022-09-16T18:59:08.078320Z"
        },
        "id": "7d989ab7",
        "outputId": "2e95def1-8623-4a2d-9cad-3e22c7c23db1",
        "papermill": {
          "duration": 0.029763,
          "end_time": "2022-09-16T18:59:08.083407",
          "exception": false,
          "start_time": "2022-09-16T18:59:08.053644",
          "status": "completed"
        },
        "tags": [],
        "colab": {
          "base_uri": "https://localhost:8080/"
        }
      },
      "outputs": [
        {
          "output_type": "stream",
          "name": "stdout",
          "text": [
            "Ada 8905 transaksi pengembalian\n"
          ]
        }
      ],
      "source": [
        "print(f'Ada {len(dfReturns)} transaksi pengembalian')"
      ]
    },
    {
      "cell_type": "code",
      "execution_count": 13,
      "id": "c0adedf6",
      "metadata": {
        "execution": {
          "iopub.execute_input": "2022-09-16T18:59:08.121031Z",
          "iopub.status.busy": "2022-09-16T18:59:08.120512Z",
          "iopub.status.idle": "2022-09-16T18:59:08.128674Z",
          "shell.execute_reply": "2022-09-16T18:59:08.127687Z"
        },
        "id": "c0adedf6",
        "outputId": "3c7eebc9-0dbf-4680-d4c1-b2ca1dd185a5",
        "papermill": {
          "duration": 0.028818,
          "end_time": "2022-09-16T18:59:08.130739",
          "exception": false,
          "start_time": "2022-09-16T18:59:08.101921",
          "status": "completed"
        },
        "tags": [],
        "colab": {
          "base_uri": "https://localhost:8080/"
        }
      },
      "outputs": [
        {
          "output_type": "execute_result",
          "data": {
            "text/plain": [
              "United Kingdom        7533\n",
              "Germany                453\n",
              "EIRE                   247\n",
              "France                 149\n",
              "USA                    112\n",
              "Australia               74\n",
              "Spain                   48\n",
              "Italy                   45\n",
              "Belgium                 38\n",
              "Japan                   37\n",
              "Switzerland             35\n",
              "Portugal                18\n",
              "Malta                   15\n",
              "Norway                  14\n",
              "Poland                  11\n",
              "Sweden                  11\n",
              "Channel Islands         10\n",
              "Finland                 10\n",
              "Denmark                  9\n",
              "Cyprus                   8\n",
              "Netherlands              8\n",
              "Singapore                7\n",
              "Czech Republic           5\n",
              "Austria                  3\n",
              "Israel                   2\n",
              "Saudi Arabia             1\n",
              "European Community       1\n",
              "Greece                   1\n",
              "Name: Country, dtype: int64"
            ]
          },
          "metadata": {},
          "execution_count": 13
        }
      ],
      "source": [
        "# cek negara dengan pengembalian terbanyak\n",
        "dfReturns['Country'].value_counts()"
      ]
    },
    {
      "cell_type": "code",
      "execution_count": 14,
      "id": "d2e962fc",
      "metadata": {
        "execution": {
          "iopub.execute_input": "2022-09-16T18:59:08.166553Z",
          "iopub.status.busy": "2022-09-16T18:59:08.166190Z",
          "iopub.status.idle": "2022-09-16T18:59:08.177694Z",
          "shell.execute_reply": "2022-09-16T18:59:08.176378Z"
        },
        "id": "d2e962fc",
        "outputId": "ddb72cb9-00b7-410a-a278-9cbdd99cc0f1",
        "papermill": {
          "duration": 0.032506,
          "end_time": "2022-09-16T18:59:08.180192",
          "exception": false,
          "start_time": "2022-09-16T18:59:08.147686",
          "status": "completed"
        },
        "tags": [],
        "colab": {
          "base_uri": "https://localhost:8080/"
        }
      },
      "outputs": [
        {
          "output_type": "execute_result",
          "data": {
            "text/plain": [
              "REGENCY CAKESTAND 3 TIER              181\n",
              "Manual                                175\n",
              "POSTAGE                                97\n",
              "JAM MAKING SET WITH JARS               86\n",
              "Discount                               77\n",
              "SET OF 3 CAKE TINS PANTRY DESIGN       73\n",
              "STRAWBERRY CERAMIC TRINKET BOX         55\n",
              "ROSES REGENCY TEACUP AND SAUCER        53\n",
              "RECIPE BOX PANTRY YELLOW DESIGN        47\n",
              "WOOD 2 DRAWER CABINET WHITE FINISH     45\n",
              "Name: Description, dtype: int64"
            ]
          },
          "metadata": {},
          "execution_count": 14
        }
      ],
      "source": [
        "#Q- top 10 produk yang paling banyak dikembalikan?\n",
        "dfReturns['Description'].value_counts().head(10)"
      ]
    },
    {
      "cell_type": "code",
      "execution_count": 15,
      "id": "ccccad3a",
      "metadata": {
        "execution": {
          "iopub.execute_input": "2022-09-16T18:59:08.218357Z",
          "iopub.status.busy": "2022-09-16T18:59:08.217657Z",
          "iopub.status.idle": "2022-09-16T18:59:08.261203Z",
          "shell.execute_reply": "2022-09-16T18:59:08.259842Z"
        },
        "id": "ccccad3a",
        "outputId": "9bb6bb61-54b0-444d-f520-ae9d02ed6ccb",
        "papermill": {
          "duration": 0.065595,
          "end_time": "2022-09-16T18:59:08.263657",
          "exception": false,
          "start_time": "2022-09-16T18:59:08.198062",
          "status": "completed"
        },
        "tags": [],
        "colab": {
          "base_uri": "https://localhost:8080/"
        }
      },
      "outputs": [
        {
          "output_type": "execute_result",
          "data": {
            "text/plain": [
              "(397924, 8)"
            ]
          },
          "metadata": {},
          "execution_count": 15
        }
      ],
      "source": [
        "data=data[data['Quantity']>=0]\n",
        "data.shape"
      ]
    },
    {
      "cell_type": "markdown",
      "id": "fe78e7b2",
      "metadata": {
        "id": "fe78e7b2",
        "papermill": {
          "duration": 0.017609,
          "end_time": "2022-09-16T18:59:08.299537",
          "exception": false,
          "start_time": "2022-09-16T18:59:08.281928",
          "status": "completed"
        },
        "tags": []
      },
      "source": [
        "Dengan menghapus pengembalian, kami menciptakan bias dalam kumpulan data.\n",
        "\n",
        "Dengan cara ini, pesanan awal diperhitungkan meskipun secara teori tidak terealisasi dan tidak menghasilkan pendapatan karena dikembalikan di kemudian hari."
      ]
    },
    {
      "cell_type": "markdown",
      "id": "d043aa6a",
      "metadata": {
        "id": "d043aa6a",
        "papermill": {
          "duration": 0.017462,
          "end_time": "2022-09-16T18:59:08.334814",
          "exception": false,
          "start_time": "2022-09-16T18:59:08.317352",
          "status": "completed"
        },
        "tags": []
      },
      "source": [
        "Membuat kolom 'Total Prices' untuk tiap pembelian"
      ]
    },
    {
      "cell_type": "code",
      "execution_count": 16,
      "id": "910bd8ae",
      "metadata": {
        "execution": {
          "iopub.execute_input": "2022-09-16T18:59:08.372585Z",
          "iopub.status.busy": "2022-09-16T18:59:08.372269Z",
          "iopub.status.idle": "2022-09-16T18:59:08.379839Z",
          "shell.execute_reply": "2022-09-16T18:59:08.377984Z"
        },
        "id": "910bd8ae",
        "papermill": {
          "duration": 0.029165,
          "end_time": "2022-09-16T18:59:08.382474",
          "exception": false,
          "start_time": "2022-09-16T18:59:08.353309",
          "status": "completed"
        },
        "tags": []
      },
      "outputs": [],
      "source": [
        "data[\"TotalPrice\"] = data[\"Quantity\"] * data[\"UnitPrice\"]"
      ]
    },
    {
      "cell_type": "markdown",
      "id": "ebecbe15",
      "metadata": {
        "id": "ebecbe15",
        "papermill": {
          "duration": 0.018106,
          "end_time": "2022-09-16T18:59:08.418801",
          "exception": false,
          "start_time": "2022-09-16T18:59:08.400695",
          "status": "completed"
        },
        "tags": []
      },
      "source": [
        "T- Berapa banyak pelanggan yang merupakan pelanggan tetap?"
      ]
    },
    {
      "cell_type": "code",
      "execution_count": 17,
      "id": "c1a801f7",
      "metadata": {
        "execution": {
          "iopub.execute_input": "2022-09-16T18:59:08.458076Z",
          "iopub.status.busy": "2022-09-16T18:59:08.457740Z",
          "iopub.status.idle": "2022-09-16T18:59:08.530590Z",
          "shell.execute_reply": "2022-09-16T18:59:08.529269Z"
        },
        "id": "c1a801f7",
        "outputId": "4a488a61-3dce-4942-8f2e-ef22619833e7",
        "papermill": {
          "duration": 0.094779,
          "end_time": "2022-09-16T18:59:08.532828",
          "exception": false,
          "start_time": "2022-09-16T18:59:08.438049",
          "status": "completed"
        },
        "tags": [],
        "colab": {
          "base_uri": "https://localhost:8080/",
          "height": 243
        }
      },
      "outputs": [
        {
          "output_type": "display_data",
          "data": {
            "text/plain": [
              "CustomerID\n",
              "12346.0     1\n",
              "12347.0     7\n",
              "12348.0     4\n",
              "12349.0     1\n",
              "12350.0     1\n",
              "           ..\n",
              "18280.0     1\n",
              "18281.0     1\n",
              "18282.0     2\n",
              "18283.0    16\n",
              "18287.0     3\n",
              "Name: InvoiceNo, Length: 4339, dtype: int64"
            ]
          },
          "metadata": {}
        }
      ],
      "source": [
        "order_num = data.groupby(['CustomerID'])[['InvoiceNo']].nunique().apply(display)"
      ]
    },
    {
      "cell_type": "markdown",
      "id": "0ed20e7d",
      "metadata": {
        "id": "0ed20e7d",
        "papermill": {
          "duration": 0.018022,
          "end_time": "2022-09-16T18:59:08.570596",
          "exception": false,
          "start_time": "2022-09-16T18:59:08.552574",
          "status": "completed"
        },
        "tags": []
      },
      "source": [
        "Seperti yang bisa kita lihat, ada 4339 total pelanggan. Mari kita lihat jumlah pelanggan tetap, yaitu mereka yang melakukan >1 kali pemesanan"
      ]
    },
    {
      "cell_type": "code",
      "execution_count": 18,
      "id": "355ef292",
      "metadata": {
        "execution": {
          "iopub.execute_input": "2022-09-16T18:59:08.609640Z",
          "iopub.status.busy": "2022-09-16T18:59:08.609309Z",
          "iopub.status.idle": "2022-09-16T18:59:08.672953Z",
          "shell.execute_reply": "2022-09-16T18:59:08.671661Z"
        },
        "id": "355ef292",
        "outputId": "59cfa8ad-f9c9-44b6-af24-bb355c306e72",
        "papermill": {
          "duration": 0.085165,
          "end_time": "2022-09-16T18:59:08.675152",
          "exception": false,
          "start_time": "2022-09-16T18:59:08.589987",
          "status": "completed"
        },
        "tags": [],
        "colab": {
          "base_uri": "https://localhost:8080/"
        }
      },
      "outputs": [
        {
          "output_type": "execute_result",
          "data": {
            "text/plain": [
              "2845"
            ]
          },
          "metadata": {},
          "execution_count": 18
        }
      ],
      "source": [
        "mul_orders = pd.DataFrame(data.groupby(['CustomerID'])[['InvoiceNo']].nunique())\n",
        "mul_orders['InvoiceNo']=mul_orders['InvoiceNo'].astype(int)\n",
        "mul_orders=mul_orders[mul_orders['InvoiceNo']>1]\n",
        "len(mul_orders)"
      ]
    },
    {
      "cell_type": "markdown",
      "id": "16a5a47f",
      "metadata": {
        "id": "16a5a47f",
        "papermill": {
          "duration": 0.017825,
          "end_time": "2022-09-16T18:59:08.748979",
          "exception": false,
          "start_time": "2022-09-16T18:59:08.731154",
          "status": "completed"
        },
        "tags": []
      },
      "source": [
        "Seperti yang kita lihat, 2845 pelanggan melakukan pembelian ulang. itu berarti 65% pelanggan adalah pelanggan tetap."
      ]
    },
    {
      "cell_type": "markdown",
      "id": "8ad09dbe",
      "metadata": {
        "id": "8ad09dbe",
        "papermill": {
          "duration": 0.018012,
          "end_time": "2022-09-16T18:59:08.785038",
          "exception": false,
          "start_time": "2022-09-16T18:59:08.767026",
          "status": "completed"
        },
        "tags": []
      },
      "source": [
        "Q- Siapa saja yang paling sering berbelanja?"
      ]
    },
    {
      "cell_type": "code",
      "execution_count": 19,
      "id": "68d3ba17",
      "metadata": {
        "execution": {
          "iopub.execute_input": "2022-09-16T18:59:08.822726Z",
          "iopub.status.busy": "2022-09-16T18:59:08.821755Z",
          "iopub.status.idle": "2022-09-16T18:59:08.837310Z",
          "shell.execute_reply": "2022-09-16T18:59:08.836316Z"
        },
        "id": "68d3ba17",
        "outputId": "ac743adb-601d-4054-e8e2-9349cdd45b09",
        "papermill": {
          "duration": 0.036671,
          "end_time": "2022-09-16T18:59:08.839545",
          "exception": false,
          "start_time": "2022-09-16T18:59:08.802874",
          "status": "completed"
        },
        "tags": [],
        "colab": {
          "base_uri": "https://localhost:8080/"
        }
      },
      "outputs": [
        {
          "output_type": "execute_result",
          "data": {
            "text/plain": [
              "17841.0    7847\n",
              "14911.0    5677\n",
              "14096.0    5111\n",
              "12748.0    4596\n",
              "14606.0    2700\n",
              "Name: CustomerID, dtype: int64"
            ]
          },
          "metadata": {},
          "execution_count": 19
        }
      ],
      "source": [
        "data[\"CustomerID\"].value_counts().head()\n"
      ]
    },
    {
      "cell_type": "markdown",
      "id": "a3ba4df4",
      "metadata": {
        "id": "a3ba4df4",
        "papermill": {
          "duration": 0.01784,
          "end_time": "2022-09-16T18:59:08.875527",
          "exception": false,
          "start_time": "2022-09-16T18:59:08.857687",
          "status": "completed"
        },
        "tags": []
      },
      "source": [
        "Q-Jumlah produk yang unik?"
      ]
    },
    {
      "cell_type": "code",
      "execution_count": 20,
      "id": "e9171124",
      "metadata": {
        "execution": {
          "iopub.execute_input": "2022-09-16T18:59:08.915206Z",
          "iopub.status.busy": "2022-09-16T18:59:08.914038Z",
          "iopub.status.idle": "2022-09-16T18:59:08.947660Z",
          "shell.execute_reply": "2022-09-16T18:59:08.946292Z"
        },
        "id": "e9171124",
        "outputId": "3238262c-9e66-4783-d426-ed1c39440629",
        "papermill": {
          "duration": 0.05529,
          "end_time": "2022-09-16T18:59:08.949725",
          "exception": false,
          "start_time": "2022-09-16T18:59:08.894435",
          "status": "completed"
        },
        "tags": [],
        "colab": {
          "base_uri": "https://localhost:8080/"
        }
      },
      "outputs": [
        {
          "output_type": "execute_result",
          "data": {
            "text/plain": [
              "3665"
            ]
          },
          "metadata": {},
          "execution_count": 20
        }
      ],
      "source": [
        "data[\"StockCode\"].nunique()"
      ]
    },
    {
      "cell_type": "markdown",
      "id": "4a965c90",
      "metadata": {
        "id": "4a965c90",
        "papermill": {
          "duration": 0.018177,
          "end_time": "2022-09-16T18:59:08.986677",
          "exception": false,
          "start_time": "2022-09-16T18:59:08.968500",
          "status": "completed"
        },
        "tags": []
      },
      "source": [
        "Q-Top 5 produk dibeli?"
      ]
    },
    {
      "cell_type": "code",
      "execution_count": 21,
      "id": "baa1fb70",
      "metadata": {
        "execution": {
          "iopub.execute_input": "2022-09-16T18:59:09.025338Z",
          "iopub.status.busy": "2022-09-16T18:59:09.025048Z",
          "iopub.status.idle": "2022-09-16T18:59:09.062405Z",
          "shell.execute_reply": "2022-09-16T18:59:09.061214Z"
        },
        "id": "baa1fb70",
        "outputId": "b86ed127-1060-4fe7-c34a-54eed1c5eec8",
        "papermill": {
          "duration": 0.059749,
          "end_time": "2022-09-16T18:59:09.065008",
          "exception": false,
          "start_time": "2022-09-16T18:59:09.005259",
          "status": "completed"
        },
        "tags": [],
        "colab": {
          "base_uri": "https://localhost:8080/"
        }
      },
      "outputs": [
        {
          "output_type": "execute_result",
          "data": {
            "text/plain": [
              "WHITE HANGING HEART T-LIGHT HOLDER    2028\n",
              "REGENCY CAKESTAND 3 TIER              1724\n",
              "JUMBO BAG RED RETROSPOT               1618\n",
              "ASSORTED COLOUR BIRD ORNAMENT         1408\n",
              "PARTY BUNTING                         1397\n",
              "Name: Description, dtype: int64"
            ]
          },
          "metadata": {},
          "execution_count": 21
        }
      ],
      "source": [
        "data[\"Description\"].value_counts().head()"
      ]
    },
    {
      "cell_type": "markdown",
      "id": "16023c25",
      "metadata": {
        "id": "16023c25",
        "papermill": {
          "duration": 0.018272,
          "end_time": "2022-09-16T18:59:09.102431",
          "exception": false,
          "start_time": "2022-09-16T18:59:09.084159",
          "status": "completed"
        },
        "tags": []
      },
      "source": [
        "Q-Negara mana yang paling banyak mengorder?"
      ]
    },
    {
      "cell_type": "code",
      "execution_count": 22,
      "id": "22633b71",
      "metadata": {
        "execution": {
          "iopub.execute_input": "2022-09-16T18:59:09.140712Z",
          "iopub.status.busy": "2022-09-16T18:59:09.140385Z",
          "iopub.status.idle": "2022-09-16T18:59:09.171082Z",
          "shell.execute_reply": "2022-09-16T18:59:09.169825Z"
        },
        "id": "22633b71",
        "outputId": "41787909-176c-47b7-fe6b-e23fba415c01",
        "papermill": {
          "duration": 0.051952,
          "end_time": "2022-09-16T18:59:09.172962",
          "exception": false,
          "start_time": "2022-09-16T18:59:09.121010",
          "status": "completed"
        },
        "tags": [],
        "colab": {
          "base_uri": "https://localhost:8080/"
        }
      },
      "outputs": [
        {
          "output_type": "execute_result",
          "data": {
            "text/plain": [
              "United Kingdom    354345\n",
              "Germany             9042\n",
              "France              8342\n",
              "EIRE                7238\n",
              "Spain               2485\n",
              "Name: Country, dtype: int64"
            ]
          },
          "metadata": {},
          "execution_count": 22
        }
      ],
      "source": [
        "data['Country'].value_counts().head()"
      ]
    },
    {
      "cell_type": "markdown",
      "id": "b974505b",
      "metadata": {
        "id": "b974505b",
        "papermill": {
          "duration": 0.018415,
          "end_time": "2022-09-16T18:59:09.209465",
          "exception": false,
          "start_time": "2022-09-16T18:59:09.191050",
          "status": "completed"
        },
        "tags": []
      },
      "source": [
        "T-Negara mana yang paling banyak membelanjakan uangnya?"
      ]
    },
    {
      "cell_type": "code",
      "execution_count": 23,
      "id": "2f25085e",
      "metadata": {
        "execution": {
          "iopub.execute_input": "2022-09-16T18:59:09.247358Z",
          "iopub.status.busy": "2022-09-16T18:59:09.247065Z",
          "iopub.status.idle": "2022-09-16T18:59:09.287907Z",
          "shell.execute_reply": "2022-09-16T18:59:09.286283Z"
        },
        "id": "2f25085e",
        "outputId": "cb69ca23-6cbb-41e5-aae6-41470e3a1efd",
        "papermill": {
          "duration": 0.062349,
          "end_time": "2022-09-16T18:59:09.290048",
          "exception": false,
          "start_time": "2022-09-16T18:59:09.227699",
          "status": "completed"
        },
        "tags": [],
        "colab": {
          "base_uri": "https://localhost:8080/",
          "height": 238
        }
      },
      "outputs": [
        {
          "output_type": "execute_result",
          "data": {
            "text/plain": [
              "                 TotalPrice\n",
              "Country                    \n",
              "United Kingdom  7308391.554\n",
              "Netherlands      285446.340\n",
              "EIRE             265545.900\n",
              "Germany          228867.140\n",
              "France           209024.050"
            ],
            "text/html": [
              "\n",
              "  <div id=\"df-9ef4a7e3-1c63-4c97-b6c4-2fa6999b38aa\">\n",
              "    <div class=\"colab-df-container\">\n",
              "      <div>\n",
              "<style scoped>\n",
              "    .dataframe tbody tr th:only-of-type {\n",
              "        vertical-align: middle;\n",
              "    }\n",
              "\n",
              "    .dataframe tbody tr th {\n",
              "        vertical-align: top;\n",
              "    }\n",
              "\n",
              "    .dataframe thead th {\n",
              "        text-align: right;\n",
              "    }\n",
              "</style>\n",
              "<table border=\"1\" class=\"dataframe\">\n",
              "  <thead>\n",
              "    <tr style=\"text-align: right;\">\n",
              "      <th></th>\n",
              "      <th>TotalPrice</th>\n",
              "    </tr>\n",
              "    <tr>\n",
              "      <th>Country</th>\n",
              "      <th></th>\n",
              "    </tr>\n",
              "  </thead>\n",
              "  <tbody>\n",
              "    <tr>\n",
              "      <th>United Kingdom</th>\n",
              "      <td>7308391.554</td>\n",
              "    </tr>\n",
              "    <tr>\n",
              "      <th>Netherlands</th>\n",
              "      <td>285446.340</td>\n",
              "    </tr>\n",
              "    <tr>\n",
              "      <th>EIRE</th>\n",
              "      <td>265545.900</td>\n",
              "    </tr>\n",
              "    <tr>\n",
              "      <th>Germany</th>\n",
              "      <td>228867.140</td>\n",
              "    </tr>\n",
              "    <tr>\n",
              "      <th>France</th>\n",
              "      <td>209024.050</td>\n",
              "    </tr>\n",
              "  </tbody>\n",
              "</table>\n",
              "</div>\n",
              "      <button class=\"colab-df-convert\" onclick=\"convertToInteractive('df-9ef4a7e3-1c63-4c97-b6c4-2fa6999b38aa')\"\n",
              "              title=\"Convert this dataframe to an interactive table.\"\n",
              "              style=\"display:none;\">\n",
              "        \n",
              "  <svg xmlns=\"http://www.w3.org/2000/svg\" height=\"24px\"viewBox=\"0 0 24 24\"\n",
              "       width=\"24px\">\n",
              "    <path d=\"M0 0h24v24H0V0z\" fill=\"none\"/>\n",
              "    <path d=\"M18.56 5.44l.94 2.06.94-2.06 2.06-.94-2.06-.94-.94-2.06-.94 2.06-2.06.94zm-11 1L8.5 8.5l.94-2.06 2.06-.94-2.06-.94L8.5 2.5l-.94 2.06-2.06.94zm10 10l.94 2.06.94-2.06 2.06-.94-2.06-.94-.94-2.06-.94 2.06-2.06.94z\"/><path d=\"M17.41 7.96l-1.37-1.37c-.4-.4-.92-.59-1.43-.59-.52 0-1.04.2-1.43.59L10.3 9.45l-7.72 7.72c-.78.78-.78 2.05 0 2.83L4 21.41c.39.39.9.59 1.41.59.51 0 1.02-.2 1.41-.59l7.78-7.78 2.81-2.81c.8-.78.8-2.07 0-2.86zM5.41 20L4 18.59l7.72-7.72 1.47 1.35L5.41 20z\"/>\n",
              "  </svg>\n",
              "      </button>\n",
              "      \n",
              "  <style>\n",
              "    .colab-df-container {\n",
              "      display:flex;\n",
              "      flex-wrap:wrap;\n",
              "      gap: 12px;\n",
              "    }\n",
              "\n",
              "    .colab-df-convert {\n",
              "      background-color: #E8F0FE;\n",
              "      border: none;\n",
              "      border-radius: 50%;\n",
              "      cursor: pointer;\n",
              "      display: none;\n",
              "      fill: #1967D2;\n",
              "      height: 32px;\n",
              "      padding: 0 0 0 0;\n",
              "      width: 32px;\n",
              "    }\n",
              "\n",
              "    .colab-df-convert:hover {\n",
              "      background-color: #E2EBFA;\n",
              "      box-shadow: 0px 1px 2px rgba(60, 64, 67, 0.3), 0px 1px 3px 1px rgba(60, 64, 67, 0.15);\n",
              "      fill: #174EA6;\n",
              "    }\n",
              "\n",
              "    [theme=dark] .colab-df-convert {\n",
              "      background-color: #3B4455;\n",
              "      fill: #D2E3FC;\n",
              "    }\n",
              "\n",
              "    [theme=dark] .colab-df-convert:hover {\n",
              "      background-color: #434B5C;\n",
              "      box-shadow: 0px 1px 3px 1px rgba(0, 0, 0, 0.15);\n",
              "      filter: drop-shadow(0px 1px 2px rgba(0, 0, 0, 0.3));\n",
              "      fill: #FFFFFF;\n",
              "    }\n",
              "  </style>\n",
              "\n",
              "      <script>\n",
              "        const buttonEl =\n",
              "          document.querySelector('#df-9ef4a7e3-1c63-4c97-b6c4-2fa6999b38aa button.colab-df-convert');\n",
              "        buttonEl.style.display =\n",
              "          google.colab.kernel.accessAllowed ? 'block' : 'none';\n",
              "\n",
              "        async function convertToInteractive(key) {\n",
              "          const element = document.querySelector('#df-9ef4a7e3-1c63-4c97-b6c4-2fa6999b38aa');\n",
              "          const dataTable =\n",
              "            await google.colab.kernel.invokeFunction('convertToInteractive',\n",
              "                                                     [key], {});\n",
              "          if (!dataTable) return;\n",
              "\n",
              "          const docLinkHtml = 'Like what you see? Visit the ' +\n",
              "            '<a target=\"_blank\" href=https://colab.research.google.com/notebooks/data_table.ipynb>data table notebook</a>'\n",
              "            + ' to learn more about interactive tables.';\n",
              "          element.innerHTML = '';\n",
              "          dataTable['output_type'] = 'display_data';\n",
              "          await google.colab.output.renderOutput(dataTable, element);\n",
              "          const docLink = document.createElement('div');\n",
              "          docLink.innerHTML = docLinkHtml;\n",
              "          element.appendChild(docLink);\n",
              "        }\n",
              "      </script>\n",
              "    </div>\n",
              "  </div>\n",
              "  "
            ]
          },
          "metadata": {},
          "execution_count": 23
        }
      ],
      "source": [
        "\n",
        "data.groupby(\"Country\").agg({\"TotalPrice\": \"sum\"}).sort_values(by = \"TotalPrice\", ascending = False).head()"
      ]
    },
    {
      "cell_type": "markdown",
      "id": "60db30af",
      "metadata": {
        "id": "60db30af",
        "papermill": {
          "duration": 0.016916,
          "end_time": "2022-09-16T18:59:09.324259",
          "exception": false,
          "start_time": "2022-09-16T18:59:09.307343",
          "status": "completed"
        },
        "tags": []
      },
      "source": [
        "T-Pelanggan mana yang paling banyak membelanjakan uangnya?\n"
      ]
    },
    {
      "cell_type": "code",
      "execution_count": 24,
      "id": "ebbdd44d",
      "metadata": {
        "execution": {
          "iopub.execute_input": "2022-09-16T18:59:09.363685Z",
          "iopub.status.busy": "2022-09-16T18:59:09.363374Z",
          "iopub.status.idle": "2022-09-16T18:59:09.411557Z",
          "shell.execute_reply": "2022-09-16T18:59:09.410999Z"
        },
        "id": "ebbdd44d",
        "outputId": "e8656bd6-c447-4103-e35a-09638a78b422",
        "papermill": {
          "duration": 0.069869,
          "end_time": "2022-09-16T18:59:09.413376",
          "exception": false,
          "start_time": "2022-09-16T18:59:09.343507",
          "status": "completed"
        },
        "tags": [],
        "colab": {
          "base_uri": "https://localhost:8080/",
          "height": 238
        }
      },
      "outputs": [
        {
          "output_type": "execute_result",
          "data": {
            "text/plain": [
              "           TotalPrice\n",
              "InvoiceNo            \n",
              "581483      168469.60\n",
              "541431       77183.60\n",
              "556444       38970.00\n",
              "567423       31698.16\n",
              "556917       22775.93"
            ],
            "text/html": [
              "\n",
              "  <div id=\"df-a6215f61-19ad-4b87-a45a-f98fdb905d40\">\n",
              "    <div class=\"colab-df-container\">\n",
              "      <div>\n",
              "<style scoped>\n",
              "    .dataframe tbody tr th:only-of-type {\n",
              "        vertical-align: middle;\n",
              "    }\n",
              "\n",
              "    .dataframe tbody tr th {\n",
              "        vertical-align: top;\n",
              "    }\n",
              "\n",
              "    .dataframe thead th {\n",
              "        text-align: right;\n",
              "    }\n",
              "</style>\n",
              "<table border=\"1\" class=\"dataframe\">\n",
              "  <thead>\n",
              "    <tr style=\"text-align: right;\">\n",
              "      <th></th>\n",
              "      <th>TotalPrice</th>\n",
              "    </tr>\n",
              "    <tr>\n",
              "      <th>InvoiceNo</th>\n",
              "      <th></th>\n",
              "    </tr>\n",
              "  </thead>\n",
              "  <tbody>\n",
              "    <tr>\n",
              "      <th>581483</th>\n",
              "      <td>168469.60</td>\n",
              "    </tr>\n",
              "    <tr>\n",
              "      <th>541431</th>\n",
              "      <td>77183.60</td>\n",
              "    </tr>\n",
              "    <tr>\n",
              "      <th>556444</th>\n",
              "      <td>38970.00</td>\n",
              "    </tr>\n",
              "    <tr>\n",
              "      <th>567423</th>\n",
              "      <td>31698.16</td>\n",
              "    </tr>\n",
              "    <tr>\n",
              "      <th>556917</th>\n",
              "      <td>22775.93</td>\n",
              "    </tr>\n",
              "  </tbody>\n",
              "</table>\n",
              "</div>\n",
              "      <button class=\"colab-df-convert\" onclick=\"convertToInteractive('df-a6215f61-19ad-4b87-a45a-f98fdb905d40')\"\n",
              "              title=\"Convert this dataframe to an interactive table.\"\n",
              "              style=\"display:none;\">\n",
              "        \n",
              "  <svg xmlns=\"http://www.w3.org/2000/svg\" height=\"24px\"viewBox=\"0 0 24 24\"\n",
              "       width=\"24px\">\n",
              "    <path d=\"M0 0h24v24H0V0z\" fill=\"none\"/>\n",
              "    <path d=\"M18.56 5.44l.94 2.06.94-2.06 2.06-.94-2.06-.94-.94-2.06-.94 2.06-2.06.94zm-11 1L8.5 8.5l.94-2.06 2.06-.94-2.06-.94L8.5 2.5l-.94 2.06-2.06.94zm10 10l.94 2.06.94-2.06 2.06-.94-2.06-.94-.94-2.06-.94 2.06-2.06.94z\"/><path d=\"M17.41 7.96l-1.37-1.37c-.4-.4-.92-.59-1.43-.59-.52 0-1.04.2-1.43.59L10.3 9.45l-7.72 7.72c-.78.78-.78 2.05 0 2.83L4 21.41c.39.39.9.59 1.41.59.51 0 1.02-.2 1.41-.59l7.78-7.78 2.81-2.81c.8-.78.8-2.07 0-2.86zM5.41 20L4 18.59l7.72-7.72 1.47 1.35L5.41 20z\"/>\n",
              "  </svg>\n",
              "      </button>\n",
              "      \n",
              "  <style>\n",
              "    .colab-df-container {\n",
              "      display:flex;\n",
              "      flex-wrap:wrap;\n",
              "      gap: 12px;\n",
              "    }\n",
              "\n",
              "    .colab-df-convert {\n",
              "      background-color: #E8F0FE;\n",
              "      border: none;\n",
              "      border-radius: 50%;\n",
              "      cursor: pointer;\n",
              "      display: none;\n",
              "      fill: #1967D2;\n",
              "      height: 32px;\n",
              "      padding: 0 0 0 0;\n",
              "      width: 32px;\n",
              "    }\n",
              "\n",
              "    .colab-df-convert:hover {\n",
              "      background-color: #E2EBFA;\n",
              "      box-shadow: 0px 1px 2px rgba(60, 64, 67, 0.3), 0px 1px 3px 1px rgba(60, 64, 67, 0.15);\n",
              "      fill: #174EA6;\n",
              "    }\n",
              "\n",
              "    [theme=dark] .colab-df-convert {\n",
              "      background-color: #3B4455;\n",
              "      fill: #D2E3FC;\n",
              "    }\n",
              "\n",
              "    [theme=dark] .colab-df-convert:hover {\n",
              "      background-color: #434B5C;\n",
              "      box-shadow: 0px 1px 3px 1px rgba(0, 0, 0, 0.15);\n",
              "      filter: drop-shadow(0px 1px 2px rgba(0, 0, 0, 0.3));\n",
              "      fill: #FFFFFF;\n",
              "    }\n",
              "  </style>\n",
              "\n",
              "      <script>\n",
              "        const buttonEl =\n",
              "          document.querySelector('#df-a6215f61-19ad-4b87-a45a-f98fdb905d40 button.colab-df-convert');\n",
              "        buttonEl.style.display =\n",
              "          google.colab.kernel.accessAllowed ? 'block' : 'none';\n",
              "\n",
              "        async function convertToInteractive(key) {\n",
              "          const element = document.querySelector('#df-a6215f61-19ad-4b87-a45a-f98fdb905d40');\n",
              "          const dataTable =\n",
              "            await google.colab.kernel.invokeFunction('convertToInteractive',\n",
              "                                                     [key], {});\n",
              "          if (!dataTable) return;\n",
              "\n",
              "          const docLinkHtml = 'Like what you see? Visit the ' +\n",
              "            '<a target=\"_blank\" href=https://colab.research.google.com/notebooks/data_table.ipynb>data table notebook</a>'\n",
              "            + ' to learn more about interactive tables.';\n",
              "          element.innerHTML = '';\n",
              "          dataTable['output_type'] = 'display_data';\n",
              "          await google.colab.output.renderOutput(dataTable, element);\n",
              "          const docLink = document.createElement('div');\n",
              "          docLink.innerHTML = docLinkHtml;\n",
              "          element.appendChild(docLink);\n",
              "        }\n",
              "      </script>\n",
              "    </div>\n",
              "  </div>\n",
              "  "
            ]
          },
          "metadata": {},
          "execution_count": 24
        }
      ],
      "source": [
        "\n",
        "data.groupby(\"InvoiceNo\").agg({\"TotalPrice\": \"sum\"}).sort_values(by = \"TotalPrice\", ascending = False).head()"
      ]
    },
    {
      "cell_type": "markdown",
      "id": "fb45f4d1",
      "metadata": {
        "id": "fb45f4d1",
        "papermill": {
          "duration": 0.018652,
          "end_time": "2022-09-16T18:59:09.450983",
          "exception": false,
          "start_time": "2022-09-16T18:59:09.432331",
          "status": "completed"
        },
        "tags": []
      },
      "source": [
        "Q-Percentage of consumers ordered more than once?"
      ]
    },
    {
      "cell_type": "markdown",
      "id": "246d6688",
      "metadata": {
        "id": "246d6688",
        "papermill": {
          "duration": 0.01896,
          "end_time": "2022-09-16T18:59:09.526369",
          "exception": false,
          "start_time": "2022-09-16T18:59:09.507409",
          "status": "completed"
        },
        "tags": []
      },
      "source": [
        "Menemukan Invoice bulanan dan tahunan dari invoice date"
      ]
    },
    {
      "cell_type": "code",
      "execution_count": 25,
      "id": "0e654cb2",
      "metadata": {
        "execution": {
          "iopub.execute_input": "2022-09-16T18:59:09.568099Z",
          "iopub.status.busy": "2022-09-16T18:59:09.567137Z",
          "iopub.status.idle": "2022-09-16T18:59:12.825302Z",
          "shell.execute_reply": "2022-09-16T18:59:12.824358Z"
        },
        "id": "0e654cb2",
        "outputId": "8b303955-e23b-40b6-ce41-aa1cfff2ce9f",
        "papermill": {
          "duration": 3.282036,
          "end_time": "2022-09-16T18:59:12.827013",
          "exception": false,
          "start_time": "2022-09-16T18:59:09.544977",
          "status": "completed"
        },
        "tags": [],
        "colab": {
          "base_uri": "https://localhost:8080/",
          "height": 545
        }
      },
      "outputs": [
        {
          "output_type": "execute_result",
          "data": {
            "text/plain": [
              "  InvoiceNo StockCode                          Description  Quantity  \\\n",
              "0    536365    85123A   WHITE HANGING HEART T-LIGHT HOLDER         6   \n",
              "1    536365     71053                  WHITE METAL LANTERN         6   \n",
              "2    536365    84406B       CREAM CUPID HEARTS COAT HANGER         8   \n",
              "3    536365    84029G  KNITTED UNION FLAG HOT WATER BOTTLE         6   \n",
              "4    536365    84029E       RED WOOLLY HOTTIE WHITE HEART.         6   \n",
              "\n",
              "          InvoiceDate  UnitPrice  CustomerID         Country  TotalPrice  \\\n",
              "0 2010-12-01 08:26:00       2.55     17850.0  United Kingdom       15.30   \n",
              "1 2010-12-01 08:26:00       3.39     17850.0  United Kingdom       20.34   \n",
              "2 2010-12-01 08:26:00       2.75     17850.0  United Kingdom       22.00   \n",
              "3 2010-12-01 08:26:00       3.39     17850.0  United Kingdom       20.34   \n",
              "4 2010-12-01 08:26:00       3.39     17850.0  United Kingdom       20.34   \n",
              "\n",
              "  InvoiceMonthYear  \n",
              "0       2010-12-01  \n",
              "1       2010-12-01  \n",
              "2       2010-12-01  \n",
              "3       2010-12-01  \n",
              "4       2010-12-01  "
            ],
            "text/html": [
              "\n",
              "  <div id=\"df-401d733c-310c-45e6-8b12-6a8026405bdf\">\n",
              "    <div class=\"colab-df-container\">\n",
              "      <div>\n",
              "<style scoped>\n",
              "    .dataframe tbody tr th:only-of-type {\n",
              "        vertical-align: middle;\n",
              "    }\n",
              "\n",
              "    .dataframe tbody tr th {\n",
              "        vertical-align: top;\n",
              "    }\n",
              "\n",
              "    .dataframe thead th {\n",
              "        text-align: right;\n",
              "    }\n",
              "</style>\n",
              "<table border=\"1\" class=\"dataframe\">\n",
              "  <thead>\n",
              "    <tr style=\"text-align: right;\">\n",
              "      <th></th>\n",
              "      <th>InvoiceNo</th>\n",
              "      <th>StockCode</th>\n",
              "      <th>Description</th>\n",
              "      <th>Quantity</th>\n",
              "      <th>InvoiceDate</th>\n",
              "      <th>UnitPrice</th>\n",
              "      <th>CustomerID</th>\n",
              "      <th>Country</th>\n",
              "      <th>TotalPrice</th>\n",
              "      <th>InvoiceMonthYear</th>\n",
              "    </tr>\n",
              "  </thead>\n",
              "  <tbody>\n",
              "    <tr>\n",
              "      <th>0</th>\n",
              "      <td>536365</td>\n",
              "      <td>85123A</td>\n",
              "      <td>WHITE HANGING HEART T-LIGHT HOLDER</td>\n",
              "      <td>6</td>\n",
              "      <td>2010-12-01 08:26:00</td>\n",
              "      <td>2.55</td>\n",
              "      <td>17850.0</td>\n",
              "      <td>United Kingdom</td>\n",
              "      <td>15.30</td>\n",
              "      <td>2010-12-01</td>\n",
              "    </tr>\n",
              "    <tr>\n",
              "      <th>1</th>\n",
              "      <td>536365</td>\n",
              "      <td>71053</td>\n",
              "      <td>WHITE METAL LANTERN</td>\n",
              "      <td>6</td>\n",
              "      <td>2010-12-01 08:26:00</td>\n",
              "      <td>3.39</td>\n",
              "      <td>17850.0</td>\n",
              "      <td>United Kingdom</td>\n",
              "      <td>20.34</td>\n",
              "      <td>2010-12-01</td>\n",
              "    </tr>\n",
              "    <tr>\n",
              "      <th>2</th>\n",
              "      <td>536365</td>\n",
              "      <td>84406B</td>\n",
              "      <td>CREAM CUPID HEARTS COAT HANGER</td>\n",
              "      <td>8</td>\n",
              "      <td>2010-12-01 08:26:00</td>\n",
              "      <td>2.75</td>\n",
              "      <td>17850.0</td>\n",
              "      <td>United Kingdom</td>\n",
              "      <td>22.00</td>\n",
              "      <td>2010-12-01</td>\n",
              "    </tr>\n",
              "    <tr>\n",
              "      <th>3</th>\n",
              "      <td>536365</td>\n",
              "      <td>84029G</td>\n",
              "      <td>KNITTED UNION FLAG HOT WATER BOTTLE</td>\n",
              "      <td>6</td>\n",
              "      <td>2010-12-01 08:26:00</td>\n",
              "      <td>3.39</td>\n",
              "      <td>17850.0</td>\n",
              "      <td>United Kingdom</td>\n",
              "      <td>20.34</td>\n",
              "      <td>2010-12-01</td>\n",
              "    </tr>\n",
              "    <tr>\n",
              "      <th>4</th>\n",
              "      <td>536365</td>\n",
              "      <td>84029E</td>\n",
              "      <td>RED WOOLLY HOTTIE WHITE HEART.</td>\n",
              "      <td>6</td>\n",
              "      <td>2010-12-01 08:26:00</td>\n",
              "      <td>3.39</td>\n",
              "      <td>17850.0</td>\n",
              "      <td>United Kingdom</td>\n",
              "      <td>20.34</td>\n",
              "      <td>2010-12-01</td>\n",
              "    </tr>\n",
              "  </tbody>\n",
              "</table>\n",
              "</div>\n",
              "      <button class=\"colab-df-convert\" onclick=\"convertToInteractive('df-401d733c-310c-45e6-8b12-6a8026405bdf')\"\n",
              "              title=\"Convert this dataframe to an interactive table.\"\n",
              "              style=\"display:none;\">\n",
              "        \n",
              "  <svg xmlns=\"http://www.w3.org/2000/svg\" height=\"24px\"viewBox=\"0 0 24 24\"\n",
              "       width=\"24px\">\n",
              "    <path d=\"M0 0h24v24H0V0z\" fill=\"none\"/>\n",
              "    <path d=\"M18.56 5.44l.94 2.06.94-2.06 2.06-.94-2.06-.94-.94-2.06-.94 2.06-2.06.94zm-11 1L8.5 8.5l.94-2.06 2.06-.94-2.06-.94L8.5 2.5l-.94 2.06-2.06.94zm10 10l.94 2.06.94-2.06 2.06-.94-2.06-.94-.94-2.06-.94 2.06-2.06.94z\"/><path d=\"M17.41 7.96l-1.37-1.37c-.4-.4-.92-.59-1.43-.59-.52 0-1.04.2-1.43.59L10.3 9.45l-7.72 7.72c-.78.78-.78 2.05 0 2.83L4 21.41c.39.39.9.59 1.41.59.51 0 1.02-.2 1.41-.59l7.78-7.78 2.81-2.81c.8-.78.8-2.07 0-2.86zM5.41 20L4 18.59l7.72-7.72 1.47 1.35L5.41 20z\"/>\n",
              "  </svg>\n",
              "      </button>\n",
              "      \n",
              "  <style>\n",
              "    .colab-df-container {\n",
              "      display:flex;\n",
              "      flex-wrap:wrap;\n",
              "      gap: 12px;\n",
              "    }\n",
              "\n",
              "    .colab-df-convert {\n",
              "      background-color: #E8F0FE;\n",
              "      border: none;\n",
              "      border-radius: 50%;\n",
              "      cursor: pointer;\n",
              "      display: none;\n",
              "      fill: #1967D2;\n",
              "      height: 32px;\n",
              "      padding: 0 0 0 0;\n",
              "      width: 32px;\n",
              "    }\n",
              "\n",
              "    .colab-df-convert:hover {\n",
              "      background-color: #E2EBFA;\n",
              "      box-shadow: 0px 1px 2px rgba(60, 64, 67, 0.3), 0px 1px 3px 1px rgba(60, 64, 67, 0.15);\n",
              "      fill: #174EA6;\n",
              "    }\n",
              "\n",
              "    [theme=dark] .colab-df-convert {\n",
              "      background-color: #3B4455;\n",
              "      fill: #D2E3FC;\n",
              "    }\n",
              "\n",
              "    [theme=dark] .colab-df-convert:hover {\n",
              "      background-color: #434B5C;\n",
              "      box-shadow: 0px 1px 3px 1px rgba(0, 0, 0, 0.15);\n",
              "      filter: drop-shadow(0px 1px 2px rgba(0, 0, 0, 0.3));\n",
              "      fill: #FFFFFF;\n",
              "    }\n",
              "  </style>\n",
              "\n",
              "      <script>\n",
              "        const buttonEl =\n",
              "          document.querySelector('#df-401d733c-310c-45e6-8b12-6a8026405bdf button.colab-df-convert');\n",
              "        buttonEl.style.display =\n",
              "          google.colab.kernel.accessAllowed ? 'block' : 'none';\n",
              "\n",
              "        async function convertToInteractive(key) {\n",
              "          const element = document.querySelector('#df-401d733c-310c-45e6-8b12-6a8026405bdf');\n",
              "          const dataTable =\n",
              "            await google.colab.kernel.invokeFunction('convertToInteractive',\n",
              "                                                     [key], {});\n",
              "          if (!dataTable) return;\n",
              "\n",
              "          const docLinkHtml = 'Like what you see? Visit the ' +\n",
              "            '<a target=\"_blank\" href=https://colab.research.google.com/notebooks/data_table.ipynb>data table notebook</a>'\n",
              "            + ' to learn more about interactive tables.';\n",
              "          element.innerHTML = '';\n",
              "          dataTable['output_type'] = 'display_data';\n",
              "          await google.colab.output.renderOutput(dataTable, element);\n",
              "          const docLink = document.createElement('div');\n",
              "          docLink.innerHTML = docLinkHtml;\n",
              "          element.appendChild(docLink);\n",
              "        }\n",
              "      </script>\n",
              "    </div>\n",
              "  </div>\n",
              "  "
            ]
          },
          "metadata": {},
          "execution_count": 25
        }
      ],
      "source": [
        "data['InvoiceDate']=pd.to_datetime(data['InvoiceDate'])\n",
        "def get_month(x):\n",
        "    return dt.datetime(x.year, x.month, 1)\n",
        "  \n",
        "# Create the invoicemonth period column\n",
        "data['InvoiceMonthYear'] = data['InvoiceDate'].apply(get_month)\n",
        "data.head()"
      ]
    },
    {
      "cell_type": "markdown",
      "id": "73759077",
      "metadata": {
        "id": "73759077",
        "papermill": {
          "duration": 0.019683,
          "end_time": "2022-09-16T18:59:12.866493",
          "exception": false,
          "start_time": "2022-09-16T18:59:12.846810",
          "status": "completed"
        },
        "tags": []
      },
      "source": [
        "Q- What was the time for which each customer was retained? What is the trend of retention?"
      ]
    },
    {
      "cell_type": "code",
      "execution_count": 26,
      "id": "bf1a8f0c",
      "metadata": {
        "execution": {
          "iopub.execute_input": "2022-09-16T18:59:12.907928Z",
          "iopub.status.busy": "2022-09-16T18:59:12.907113Z",
          "iopub.status.idle": "2022-09-16T18:59:12.947387Z",
          "shell.execute_reply": "2022-09-16T18:59:12.945849Z"
        },
        "id": "bf1a8f0c",
        "outputId": "518f47b7-1a32-4cb9-9916-74d12b4a6834",
        "papermill": {
          "duration": 0.06326,
          "end_time": "2022-09-16T18:59:12.949660",
          "exception": false,
          "start_time": "2022-09-16T18:59:12.886400",
          "status": "completed"
        },
        "tags": [],
        "colab": {
          "base_uri": "https://localhost:8080/",
          "height": 974
        }
      },
      "outputs": [
        {
          "output_type": "execute_result",
          "data": {
            "text/plain": [
              "       InvoiceNo StockCode                          Description  Quantity  \\\n",
              "0         536365    85123A   WHITE HANGING HEART T-LIGHT HOLDER         6   \n",
              "1         536365     71053                  WHITE METAL LANTERN         6   \n",
              "2         536365    84406B       CREAM CUPID HEARTS COAT HANGER         8   \n",
              "3         536365    84029G  KNITTED UNION FLAG HOT WATER BOTTLE         6   \n",
              "4         536365    84029E       RED WOOLLY HOTTIE WHITE HEART.         6   \n",
              "...          ...       ...                                  ...       ...   \n",
              "541904    581587     22613          PACK OF 20 SPACEBOY NAPKINS        12   \n",
              "541905    581587     22899         CHILDREN'S APRON DOLLY GIRL          6   \n",
              "541906    581587     23254        CHILDRENS CUTLERY DOLLY GIRL          4   \n",
              "541907    581587     23255      CHILDRENS CUTLERY CIRCUS PARADE         4   \n",
              "541908    581587     22138        BAKING SET 9 PIECE RETROSPOT          3   \n",
              "\n",
              "               InvoiceDate  UnitPrice  CustomerID         Country  TotalPrice  \\\n",
              "0      2010-12-01 08:26:00       2.55     17850.0  United Kingdom       15.30   \n",
              "1      2010-12-01 08:26:00       3.39     17850.0  United Kingdom       20.34   \n",
              "2      2010-12-01 08:26:00       2.75     17850.0  United Kingdom       22.00   \n",
              "3      2010-12-01 08:26:00       3.39     17850.0  United Kingdom       20.34   \n",
              "4      2010-12-01 08:26:00       3.39     17850.0  United Kingdom       20.34   \n",
              "...                    ...        ...         ...             ...         ...   \n",
              "541904 2011-12-09 12:50:00       0.85     12680.0          France       10.20   \n",
              "541905 2011-12-09 12:50:00       2.10     12680.0          France       12.60   \n",
              "541906 2011-12-09 12:50:00       4.15     12680.0          France       16.60   \n",
              "541907 2011-12-09 12:50:00       4.15     12680.0          France       16.60   \n",
              "541908 2011-12-09 12:50:00       4.95     12680.0          France       14.85   \n",
              "\n",
              "       InvoiceMonthYear CohortMonthYear  \n",
              "0            2010-12-01      2010-12-01  \n",
              "1            2010-12-01      2010-12-01  \n",
              "2            2010-12-01      2010-12-01  \n",
              "3            2010-12-01      2010-12-01  \n",
              "4            2010-12-01      2010-12-01  \n",
              "...                 ...             ...  \n",
              "541904       2011-12-01      2011-08-01  \n",
              "541905       2011-12-01      2011-08-01  \n",
              "541906       2011-12-01      2011-08-01  \n",
              "541907       2011-12-01      2011-08-01  \n",
              "541908       2011-12-01      2011-08-01  \n",
              "\n",
              "[397924 rows x 11 columns]"
            ],
            "text/html": [
              "\n",
              "  <div id=\"df-d5b340ec-efa9-464f-b038-0cb5dcb50ce9\">\n",
              "    <div class=\"colab-df-container\">\n",
              "      <div>\n",
              "<style scoped>\n",
              "    .dataframe tbody tr th:only-of-type {\n",
              "        vertical-align: middle;\n",
              "    }\n",
              "\n",
              "    .dataframe tbody tr th {\n",
              "        vertical-align: top;\n",
              "    }\n",
              "\n",
              "    .dataframe thead th {\n",
              "        text-align: right;\n",
              "    }\n",
              "</style>\n",
              "<table border=\"1\" class=\"dataframe\">\n",
              "  <thead>\n",
              "    <tr style=\"text-align: right;\">\n",
              "      <th></th>\n",
              "      <th>InvoiceNo</th>\n",
              "      <th>StockCode</th>\n",
              "      <th>Description</th>\n",
              "      <th>Quantity</th>\n",
              "      <th>InvoiceDate</th>\n",
              "      <th>UnitPrice</th>\n",
              "      <th>CustomerID</th>\n",
              "      <th>Country</th>\n",
              "      <th>TotalPrice</th>\n",
              "      <th>InvoiceMonthYear</th>\n",
              "      <th>CohortMonthYear</th>\n",
              "    </tr>\n",
              "  </thead>\n",
              "  <tbody>\n",
              "    <tr>\n",
              "      <th>0</th>\n",
              "      <td>536365</td>\n",
              "      <td>85123A</td>\n",
              "      <td>WHITE HANGING HEART T-LIGHT HOLDER</td>\n",
              "      <td>6</td>\n",
              "      <td>2010-12-01 08:26:00</td>\n",
              "      <td>2.55</td>\n",
              "      <td>17850.0</td>\n",
              "      <td>United Kingdom</td>\n",
              "      <td>15.30</td>\n",
              "      <td>2010-12-01</td>\n",
              "      <td>2010-12-01</td>\n",
              "    </tr>\n",
              "    <tr>\n",
              "      <th>1</th>\n",
              "      <td>536365</td>\n",
              "      <td>71053</td>\n",
              "      <td>WHITE METAL LANTERN</td>\n",
              "      <td>6</td>\n",
              "      <td>2010-12-01 08:26:00</td>\n",
              "      <td>3.39</td>\n",
              "      <td>17850.0</td>\n",
              "      <td>United Kingdom</td>\n",
              "      <td>20.34</td>\n",
              "      <td>2010-12-01</td>\n",
              "      <td>2010-12-01</td>\n",
              "    </tr>\n",
              "    <tr>\n",
              "      <th>2</th>\n",
              "      <td>536365</td>\n",
              "      <td>84406B</td>\n",
              "      <td>CREAM CUPID HEARTS COAT HANGER</td>\n",
              "      <td>8</td>\n",
              "      <td>2010-12-01 08:26:00</td>\n",
              "      <td>2.75</td>\n",
              "      <td>17850.0</td>\n",
              "      <td>United Kingdom</td>\n",
              "      <td>22.00</td>\n",
              "      <td>2010-12-01</td>\n",
              "      <td>2010-12-01</td>\n",
              "    </tr>\n",
              "    <tr>\n",
              "      <th>3</th>\n",
              "      <td>536365</td>\n",
              "      <td>84029G</td>\n",
              "      <td>KNITTED UNION FLAG HOT WATER BOTTLE</td>\n",
              "      <td>6</td>\n",
              "      <td>2010-12-01 08:26:00</td>\n",
              "      <td>3.39</td>\n",
              "      <td>17850.0</td>\n",
              "      <td>United Kingdom</td>\n",
              "      <td>20.34</td>\n",
              "      <td>2010-12-01</td>\n",
              "      <td>2010-12-01</td>\n",
              "    </tr>\n",
              "    <tr>\n",
              "      <th>4</th>\n",
              "      <td>536365</td>\n",
              "      <td>84029E</td>\n",
              "      <td>RED WOOLLY HOTTIE WHITE HEART.</td>\n",
              "      <td>6</td>\n",
              "      <td>2010-12-01 08:26:00</td>\n",
              "      <td>3.39</td>\n",
              "      <td>17850.0</td>\n",
              "      <td>United Kingdom</td>\n",
              "      <td>20.34</td>\n",
              "      <td>2010-12-01</td>\n",
              "      <td>2010-12-01</td>\n",
              "    </tr>\n",
              "    <tr>\n",
              "      <th>...</th>\n",
              "      <td>...</td>\n",
              "      <td>...</td>\n",
              "      <td>...</td>\n",
              "      <td>...</td>\n",
              "      <td>...</td>\n",
              "      <td>...</td>\n",
              "      <td>...</td>\n",
              "      <td>...</td>\n",
              "      <td>...</td>\n",
              "      <td>...</td>\n",
              "      <td>...</td>\n",
              "    </tr>\n",
              "    <tr>\n",
              "      <th>541904</th>\n",
              "      <td>581587</td>\n",
              "      <td>22613</td>\n",
              "      <td>PACK OF 20 SPACEBOY NAPKINS</td>\n",
              "      <td>12</td>\n",
              "      <td>2011-12-09 12:50:00</td>\n",
              "      <td>0.85</td>\n",
              "      <td>12680.0</td>\n",
              "      <td>France</td>\n",
              "      <td>10.20</td>\n",
              "      <td>2011-12-01</td>\n",
              "      <td>2011-08-01</td>\n",
              "    </tr>\n",
              "    <tr>\n",
              "      <th>541905</th>\n",
              "      <td>581587</td>\n",
              "      <td>22899</td>\n",
              "      <td>CHILDREN'S APRON DOLLY GIRL</td>\n",
              "      <td>6</td>\n",
              "      <td>2011-12-09 12:50:00</td>\n",
              "      <td>2.10</td>\n",
              "      <td>12680.0</td>\n",
              "      <td>France</td>\n",
              "      <td>12.60</td>\n",
              "      <td>2011-12-01</td>\n",
              "      <td>2011-08-01</td>\n",
              "    </tr>\n",
              "    <tr>\n",
              "      <th>541906</th>\n",
              "      <td>581587</td>\n",
              "      <td>23254</td>\n",
              "      <td>CHILDRENS CUTLERY DOLLY GIRL</td>\n",
              "      <td>4</td>\n",
              "      <td>2011-12-09 12:50:00</td>\n",
              "      <td>4.15</td>\n",
              "      <td>12680.0</td>\n",
              "      <td>France</td>\n",
              "      <td>16.60</td>\n",
              "      <td>2011-12-01</td>\n",
              "      <td>2011-08-01</td>\n",
              "    </tr>\n",
              "    <tr>\n",
              "      <th>541907</th>\n",
              "      <td>581587</td>\n",
              "      <td>23255</td>\n",
              "      <td>CHILDRENS CUTLERY CIRCUS PARADE</td>\n",
              "      <td>4</td>\n",
              "      <td>2011-12-09 12:50:00</td>\n",
              "      <td>4.15</td>\n",
              "      <td>12680.0</td>\n",
              "      <td>France</td>\n",
              "      <td>16.60</td>\n",
              "      <td>2011-12-01</td>\n",
              "      <td>2011-08-01</td>\n",
              "    </tr>\n",
              "    <tr>\n",
              "      <th>541908</th>\n",
              "      <td>581587</td>\n",
              "      <td>22138</td>\n",
              "      <td>BAKING SET 9 PIECE RETROSPOT</td>\n",
              "      <td>3</td>\n",
              "      <td>2011-12-09 12:50:00</td>\n",
              "      <td>4.95</td>\n",
              "      <td>12680.0</td>\n",
              "      <td>France</td>\n",
              "      <td>14.85</td>\n",
              "      <td>2011-12-01</td>\n",
              "      <td>2011-08-01</td>\n",
              "    </tr>\n",
              "  </tbody>\n",
              "</table>\n",
              "<p>397924 rows × 11 columns</p>\n",
              "</div>\n",
              "      <button class=\"colab-df-convert\" onclick=\"convertToInteractive('df-d5b340ec-efa9-464f-b038-0cb5dcb50ce9')\"\n",
              "              title=\"Convert this dataframe to an interactive table.\"\n",
              "              style=\"display:none;\">\n",
              "        \n",
              "  <svg xmlns=\"http://www.w3.org/2000/svg\" height=\"24px\"viewBox=\"0 0 24 24\"\n",
              "       width=\"24px\">\n",
              "    <path d=\"M0 0h24v24H0V0z\" fill=\"none\"/>\n",
              "    <path d=\"M18.56 5.44l.94 2.06.94-2.06 2.06-.94-2.06-.94-.94-2.06-.94 2.06-2.06.94zm-11 1L8.5 8.5l.94-2.06 2.06-.94-2.06-.94L8.5 2.5l-.94 2.06-2.06.94zm10 10l.94 2.06.94-2.06 2.06-.94-2.06-.94-.94-2.06-.94 2.06-2.06.94z\"/><path d=\"M17.41 7.96l-1.37-1.37c-.4-.4-.92-.59-1.43-.59-.52 0-1.04.2-1.43.59L10.3 9.45l-7.72 7.72c-.78.78-.78 2.05 0 2.83L4 21.41c.39.39.9.59 1.41.59.51 0 1.02-.2 1.41-.59l7.78-7.78 2.81-2.81c.8-.78.8-2.07 0-2.86zM5.41 20L4 18.59l7.72-7.72 1.47 1.35L5.41 20z\"/>\n",
              "  </svg>\n",
              "      </button>\n",
              "      \n",
              "  <style>\n",
              "    .colab-df-container {\n",
              "      display:flex;\n",
              "      flex-wrap:wrap;\n",
              "      gap: 12px;\n",
              "    }\n",
              "\n",
              "    .colab-df-convert {\n",
              "      background-color: #E8F0FE;\n",
              "      border: none;\n",
              "      border-radius: 50%;\n",
              "      cursor: pointer;\n",
              "      display: none;\n",
              "      fill: #1967D2;\n",
              "      height: 32px;\n",
              "      padding: 0 0 0 0;\n",
              "      width: 32px;\n",
              "    }\n",
              "\n",
              "    .colab-df-convert:hover {\n",
              "      background-color: #E2EBFA;\n",
              "      box-shadow: 0px 1px 2px rgba(60, 64, 67, 0.3), 0px 1px 3px 1px rgba(60, 64, 67, 0.15);\n",
              "      fill: #174EA6;\n",
              "    }\n",
              "\n",
              "    [theme=dark] .colab-df-convert {\n",
              "      background-color: #3B4455;\n",
              "      fill: #D2E3FC;\n",
              "    }\n",
              "\n",
              "    [theme=dark] .colab-df-convert:hover {\n",
              "      background-color: #434B5C;\n",
              "      box-shadow: 0px 1px 3px 1px rgba(0, 0, 0, 0.15);\n",
              "      filter: drop-shadow(0px 1px 2px rgba(0, 0, 0, 0.3));\n",
              "      fill: #FFFFFF;\n",
              "    }\n",
              "  </style>\n",
              "\n",
              "      <script>\n",
              "        const buttonEl =\n",
              "          document.querySelector('#df-d5b340ec-efa9-464f-b038-0cb5dcb50ce9 button.colab-df-convert');\n",
              "        buttonEl.style.display =\n",
              "          google.colab.kernel.accessAllowed ? 'block' : 'none';\n",
              "\n",
              "        async function convertToInteractive(key) {\n",
              "          const element = document.querySelector('#df-d5b340ec-efa9-464f-b038-0cb5dcb50ce9');\n",
              "          const dataTable =\n",
              "            await google.colab.kernel.invokeFunction('convertToInteractive',\n",
              "                                                     [key], {});\n",
              "          if (!dataTable) return;\n",
              "\n",
              "          const docLinkHtml = 'Like what you see? Visit the ' +\n",
              "            '<a target=\"_blank\" href=https://colab.research.google.com/notebooks/data_table.ipynb>data table notebook</a>'\n",
              "            + ' to learn more about interactive tables.';\n",
              "          element.innerHTML = '';\n",
              "          dataTable['output_type'] = 'display_data';\n",
              "          await google.colab.output.renderOutput(dataTable, element);\n",
              "          const docLink = document.createElement('div');\n",
              "          docLink.innerHTML = docLinkHtml;\n",
              "          element.appendChild(docLink);\n",
              "        }\n",
              "      </script>\n",
              "    </div>\n",
              "  </div>\n",
              "  "
            ]
          },
          "metadata": {},
          "execution_count": 26
        }
      ],
      "source": [
        "grouping = data.groupby('CustomerID')['InvoiceMonthYear']\n",
        "#finding and assigning earliest date of joining for each customer, here cohort refers to the time of joining\n",
        "data['CohortMonthYear'] = grouping.transform('min')\n",
        "data"
      ]
    },
    {
      "cell_type": "markdown",
      "id": "41acb563",
      "metadata": {
        "id": "41acb563",
        "papermill": {
          "duration": 0.01932,
          "end_time": "2022-09-16T18:59:12.988843",
          "exception": false,
          "start_time": "2022-09-16T18:59:12.969523",
          "status": "completed"
        },
        "tags": []
      },
      "source": [
        "Menemukan waktu setiap pelanggan bertahan dengan perusahaan (dalam bulan)"
      ]
    },
    {
      "cell_type": "code",
      "execution_count": 27,
      "id": "646d4d62",
      "metadata": {
        "execution": {
          "iopub.execute_input": "2022-09-16T18:59:13.029664Z",
          "iopub.status.busy": "2022-09-16T18:59:13.029330Z",
          "iopub.status.idle": "2022-09-16T18:59:13.154843Z",
          "shell.execute_reply": "2022-09-16T18:59:13.153290Z"
        },
        "id": "646d4d62",
        "outputId": "da38a2f2-9e8c-4c02-9f77-b3325897ae62",
        "papermill": {
          "duration": 0.149168,
          "end_time": "2022-09-16T18:59:13.157205",
          "exception": false,
          "start_time": "2022-09-16T18:59:13.008037",
          "status": "completed"
        },
        "tags": [],
        "colab": {
          "base_uri": "https://localhost:8080/",
          "height": 583
        }
      },
      "outputs": [
        {
          "output_type": "execute_result",
          "data": {
            "text/plain": [
              "  InvoiceNo StockCode                          Description  Quantity  \\\n",
              "0    536365    85123A   WHITE HANGING HEART T-LIGHT HOLDER         6   \n",
              "1    536365     71053                  WHITE METAL LANTERN         6   \n",
              "2    536365    84406B       CREAM CUPID HEARTS COAT HANGER         8   \n",
              "3    536365    84029G  KNITTED UNION FLAG HOT WATER BOTTLE         6   \n",
              "4    536365    84029E       RED WOOLLY HOTTIE WHITE HEART.         6   \n",
              "\n",
              "          InvoiceDate  UnitPrice  CustomerID         Country  TotalPrice  \\\n",
              "0 2010-12-01 08:26:00       2.55     17850.0  United Kingdom       15.30   \n",
              "1 2010-12-01 08:26:00       3.39     17850.0  United Kingdom       20.34   \n",
              "2 2010-12-01 08:26:00       2.75     17850.0  United Kingdom       22.00   \n",
              "3 2010-12-01 08:26:00       3.39     17850.0  United Kingdom       20.34   \n",
              "4 2010-12-01 08:26:00       3.39     17850.0  United Kingdom       20.34   \n",
              "\n",
              "  InvoiceMonthYear CohortMonthYear  MonthsRetained  \n",
              "0       2010-12-01      2010-12-01               1  \n",
              "1       2010-12-01      2010-12-01               1  \n",
              "2       2010-12-01      2010-12-01               1  \n",
              "3       2010-12-01      2010-12-01               1  \n",
              "4       2010-12-01      2010-12-01               1  "
            ],
            "text/html": [
              "\n",
              "  <div id=\"df-ecf0606a-e97c-4428-9420-4b02bfe9facd\">\n",
              "    <div class=\"colab-df-container\">\n",
              "      <div>\n",
              "<style scoped>\n",
              "    .dataframe tbody tr th:only-of-type {\n",
              "        vertical-align: middle;\n",
              "    }\n",
              "\n",
              "    .dataframe tbody tr th {\n",
              "        vertical-align: top;\n",
              "    }\n",
              "\n",
              "    .dataframe thead th {\n",
              "        text-align: right;\n",
              "    }\n",
              "</style>\n",
              "<table border=\"1\" class=\"dataframe\">\n",
              "  <thead>\n",
              "    <tr style=\"text-align: right;\">\n",
              "      <th></th>\n",
              "      <th>InvoiceNo</th>\n",
              "      <th>StockCode</th>\n",
              "      <th>Description</th>\n",
              "      <th>Quantity</th>\n",
              "      <th>InvoiceDate</th>\n",
              "      <th>UnitPrice</th>\n",
              "      <th>CustomerID</th>\n",
              "      <th>Country</th>\n",
              "      <th>TotalPrice</th>\n",
              "      <th>InvoiceMonthYear</th>\n",
              "      <th>CohortMonthYear</th>\n",
              "      <th>MonthsRetained</th>\n",
              "    </tr>\n",
              "  </thead>\n",
              "  <tbody>\n",
              "    <tr>\n",
              "      <th>0</th>\n",
              "      <td>536365</td>\n",
              "      <td>85123A</td>\n",
              "      <td>WHITE HANGING HEART T-LIGHT HOLDER</td>\n",
              "      <td>6</td>\n",
              "      <td>2010-12-01 08:26:00</td>\n",
              "      <td>2.55</td>\n",
              "      <td>17850.0</td>\n",
              "      <td>United Kingdom</td>\n",
              "      <td>15.30</td>\n",
              "      <td>2010-12-01</td>\n",
              "      <td>2010-12-01</td>\n",
              "      <td>1</td>\n",
              "    </tr>\n",
              "    <tr>\n",
              "      <th>1</th>\n",
              "      <td>536365</td>\n",
              "      <td>71053</td>\n",
              "      <td>WHITE METAL LANTERN</td>\n",
              "      <td>6</td>\n",
              "      <td>2010-12-01 08:26:00</td>\n",
              "      <td>3.39</td>\n",
              "      <td>17850.0</td>\n",
              "      <td>United Kingdom</td>\n",
              "      <td>20.34</td>\n",
              "      <td>2010-12-01</td>\n",
              "      <td>2010-12-01</td>\n",
              "      <td>1</td>\n",
              "    </tr>\n",
              "    <tr>\n",
              "      <th>2</th>\n",
              "      <td>536365</td>\n",
              "      <td>84406B</td>\n",
              "      <td>CREAM CUPID HEARTS COAT HANGER</td>\n",
              "      <td>8</td>\n",
              "      <td>2010-12-01 08:26:00</td>\n",
              "      <td>2.75</td>\n",
              "      <td>17850.0</td>\n",
              "      <td>United Kingdom</td>\n",
              "      <td>22.00</td>\n",
              "      <td>2010-12-01</td>\n",
              "      <td>2010-12-01</td>\n",
              "      <td>1</td>\n",
              "    </tr>\n",
              "    <tr>\n",
              "      <th>3</th>\n",
              "      <td>536365</td>\n",
              "      <td>84029G</td>\n",
              "      <td>KNITTED UNION FLAG HOT WATER BOTTLE</td>\n",
              "      <td>6</td>\n",
              "      <td>2010-12-01 08:26:00</td>\n",
              "      <td>3.39</td>\n",
              "      <td>17850.0</td>\n",
              "      <td>United Kingdom</td>\n",
              "      <td>20.34</td>\n",
              "      <td>2010-12-01</td>\n",
              "      <td>2010-12-01</td>\n",
              "      <td>1</td>\n",
              "    </tr>\n",
              "    <tr>\n",
              "      <th>4</th>\n",
              "      <td>536365</td>\n",
              "      <td>84029E</td>\n",
              "      <td>RED WOOLLY HOTTIE WHITE HEART.</td>\n",
              "      <td>6</td>\n",
              "      <td>2010-12-01 08:26:00</td>\n",
              "      <td>3.39</td>\n",
              "      <td>17850.0</td>\n",
              "      <td>United Kingdom</td>\n",
              "      <td>20.34</td>\n",
              "      <td>2010-12-01</td>\n",
              "      <td>2010-12-01</td>\n",
              "      <td>1</td>\n",
              "    </tr>\n",
              "  </tbody>\n",
              "</table>\n",
              "</div>\n",
              "      <button class=\"colab-df-convert\" onclick=\"convertToInteractive('df-ecf0606a-e97c-4428-9420-4b02bfe9facd')\"\n",
              "              title=\"Convert this dataframe to an interactive table.\"\n",
              "              style=\"display:none;\">\n",
              "        \n",
              "  <svg xmlns=\"http://www.w3.org/2000/svg\" height=\"24px\"viewBox=\"0 0 24 24\"\n",
              "       width=\"24px\">\n",
              "    <path d=\"M0 0h24v24H0V0z\" fill=\"none\"/>\n",
              "    <path d=\"M18.56 5.44l.94 2.06.94-2.06 2.06-.94-2.06-.94-.94-2.06-.94 2.06-2.06.94zm-11 1L8.5 8.5l.94-2.06 2.06-.94-2.06-.94L8.5 2.5l-.94 2.06-2.06.94zm10 10l.94 2.06.94-2.06 2.06-.94-2.06-.94-.94-2.06-.94 2.06-2.06.94z\"/><path d=\"M17.41 7.96l-1.37-1.37c-.4-.4-.92-.59-1.43-.59-.52 0-1.04.2-1.43.59L10.3 9.45l-7.72 7.72c-.78.78-.78 2.05 0 2.83L4 21.41c.39.39.9.59 1.41.59.51 0 1.02-.2 1.41-.59l7.78-7.78 2.81-2.81c.8-.78.8-2.07 0-2.86zM5.41 20L4 18.59l7.72-7.72 1.47 1.35L5.41 20z\"/>\n",
              "  </svg>\n",
              "      </button>\n",
              "      \n",
              "  <style>\n",
              "    .colab-df-container {\n",
              "      display:flex;\n",
              "      flex-wrap:wrap;\n",
              "      gap: 12px;\n",
              "    }\n",
              "\n",
              "    .colab-df-convert {\n",
              "      background-color: #E8F0FE;\n",
              "      border: none;\n",
              "      border-radius: 50%;\n",
              "      cursor: pointer;\n",
              "      display: none;\n",
              "      fill: #1967D2;\n",
              "      height: 32px;\n",
              "      padding: 0 0 0 0;\n",
              "      width: 32px;\n",
              "    }\n",
              "\n",
              "    .colab-df-convert:hover {\n",
              "      background-color: #E2EBFA;\n",
              "      box-shadow: 0px 1px 2px rgba(60, 64, 67, 0.3), 0px 1px 3px 1px rgba(60, 64, 67, 0.15);\n",
              "      fill: #174EA6;\n",
              "    }\n",
              "\n",
              "    [theme=dark] .colab-df-convert {\n",
              "      background-color: #3B4455;\n",
              "      fill: #D2E3FC;\n",
              "    }\n",
              "\n",
              "    [theme=dark] .colab-df-convert:hover {\n",
              "      background-color: #434B5C;\n",
              "      box-shadow: 0px 1px 3px 1px rgba(0, 0, 0, 0.15);\n",
              "      filter: drop-shadow(0px 1px 2px rgba(0, 0, 0, 0.3));\n",
              "      fill: #FFFFFF;\n",
              "    }\n",
              "  </style>\n",
              "\n",
              "      <script>\n",
              "        const buttonEl =\n",
              "          document.querySelector('#df-ecf0606a-e97c-4428-9420-4b02bfe9facd button.colab-df-convert');\n",
              "        buttonEl.style.display =\n",
              "          google.colab.kernel.accessAllowed ? 'block' : 'none';\n",
              "\n",
              "        async function convertToInteractive(key) {\n",
              "          const element = document.querySelector('#df-ecf0606a-e97c-4428-9420-4b02bfe9facd');\n",
              "          const dataTable =\n",
              "            await google.colab.kernel.invokeFunction('convertToInteractive',\n",
              "                                                     [key], {});\n",
              "          if (!dataTable) return;\n",
              "\n",
              "          const docLinkHtml = 'Like what you see? Visit the ' +\n",
              "            '<a target=\"_blank\" href=https://colab.research.google.com/notebooks/data_table.ipynb>data table notebook</a>'\n",
              "            + ' to learn more about interactive tables.';\n",
              "          element.innerHTML = '';\n",
              "          dataTable['output_type'] = 'display_data';\n",
              "          await google.colab.output.renderOutput(dataTable, element);\n",
              "          const docLink = document.createElement('div');\n",
              "          docLink.innerHTML = docLinkHtml;\n",
              "          element.appendChild(docLink);\n",
              "        }\n",
              "      </script>\n",
              "    </div>\n",
              "  </div>\n",
              "  "
            ]
          },
          "metadata": {},
          "execution_count": 27
        }
      ],
      "source": [
        "data['InvoiceMonthYear']=pd.to_datetime(data['InvoiceMonthYear'])\n",
        "data['CohortMonthYear']=pd.to_datetime(data['CohortMonthYear'])\n",
        "\n",
        "  \n",
        "invoice_year, invoice_month = data['InvoiceMonthYear'].dt.year,data['InvoiceMonthYear'].dt.month\n",
        "cohort_year, cohort_month = data['CohortMonthYear'].dt.year,data['CohortMonthYear'].dt.month\n",
        "years_diff = invoice_year - cohort_year\n",
        "months_diff = invoice_month - cohort_month\n",
        "data['MonthsRetained'] = years_diff * 12 + months_diff + 1\n",
        "data.head()"
      ]
    },
    {
      "cell_type": "markdown",
      "id": "51bf40cc",
      "metadata": {
        "id": "51bf40cc",
        "papermill": {
          "duration": 0.019674,
          "end_time": "2022-09-16T18:59:13.197716",
          "exception": false,
          "start_time": "2022-09-16T18:59:13.178042",
          "status": "completed"
        },
        "tags": []
      },
      "source": [
        "Plotting hasilnya"
      ]
    },
    {
      "cell_type": "code",
      "execution_count": 28,
      "id": "a1bb02f0",
      "metadata": {
        "execution": {
          "iopub.execute_input": "2022-09-16T18:59:13.238765Z",
          "iopub.status.busy": "2022-09-16T18:59:13.238415Z",
          "iopub.status.idle": "2022-09-16T18:59:13.490671Z",
          "shell.execute_reply": "2022-09-16T18:59:13.488533Z"
        },
        "id": "a1bb02f0",
        "outputId": "480802fe-a175-4dab-8262-9e60f2cdec8d",
        "papermill": {
          "duration": 0.275627,
          "end_time": "2022-09-16T18:59:13.493173",
          "exception": false,
          "start_time": "2022-09-16T18:59:13.217546",
          "status": "completed"
        },
        "tags": [],
        "colab": {
          "base_uri": "https://localhost:8080/",
          "height": 449
        }
      },
      "outputs": [
        {
          "output_type": "display_data",
          "data": {
            "text/plain": [
              "<Figure size 640x480 with 1 Axes>"
            ],
            "image/png": "[encoded data removed]"
          },
          "metadata": {}
        }
      ],
      "source": [
        "sns.countplot(data['MonthsRetained'])\n",
        "plt.xlabel(\"Number of months of retention\")\n",
        "plt.ylabel(\"Number of customers\")\n",
        "plt.show()"
      ]
    },
    {
      "cell_type": "markdown",
      "id": "7922f6ea",
      "metadata": {
        "id": "7922f6ea",
        "papermill": {
          "duration": 0.020569,
          "end_time": "2022-09-16T18:59:13.535651",
          "exception": false,
          "start_time": "2022-09-16T18:59:13.515082",
          "status": "completed"
        },
        "tags": []
      },
      "source": [
        "Seperti yang bisa kita lihat, sebagian besar pelanggan hanya bertahan selama 1 bulan. \n",
        "\n",
        "Kita dapat melihat bahwa ada penurunan signifikan dalam jumlah pelanggan yang menggunakan produk di bulan berikutnya. dan setelah bulan itu, ada aliran pelanggan yang stabil untuk sisa tahun ini kecuali tahun depan di mana ada pelanggan yang kurang loyal. \n",
        "\n",
        "Hal ini dapat disebabkan oleh beberapa alasan:\n",
        "1. Tidak ada penjualan atau diskon di akhir tahun.\n",
        "2. Tidak ada penawaran musiman atau festival\n",
        "(Hal ini dapat bervariasi dari satu negara ke negara lain)\n",
        "3. Tidak ada pembaruan baru pada produk atau antarmuka toko.\n",
        "\n",
        "Lebih dalam lagi, mari kita lihat tingkat retensi pelanggan berdasarkan kelompok."
      ]
    },
    {
      "cell_type": "code",
      "execution_count": 29,
      "id": "e5a7a71c",
      "metadata": {
        "execution": {
          "iopub.execute_input": "2022-09-16T18:59:13.580375Z",
          "iopub.status.busy": "2022-09-16T18:59:13.578706Z",
          "iopub.status.idle": "2022-09-16T18:59:13.643247Z",
          "shell.execute_reply": "2022-09-16T18:59:13.640700Z"
        },
        "id": "e5a7a71c",
        "papermill": {
          "duration": 0.089734,
          "end_time": "2022-09-16T18:59:13.646083",
          "exception": false,
          "start_time": "2022-09-16T18:59:13.556349",
          "status": "completed"
        },
        "tags": []
      },
      "outputs": [],
      "source": [
        "group = data.groupby(['CohortMonthYear', 'MonthsRetained'])\n",
        "cohorts = group['CustomerID'].apply(pd.Series.nunique).reset_index()\n",
        "cohort_counts = cohorts.pivot(index='CohortMonthYear', columns='MonthsRetained', values='CustomerID')\n",
        "cohort_sizes = cohort_counts.iloc[:,0]\n",
        "retention_percent = cohort_counts.divide(cohort_sizes, axis=0)*100"
      ]
    },
    {
      "cell_type": "code",
      "execution_count": 30,
      "id": "223d460b",
      "metadata": {
        "execution": {
          "iopub.execute_input": "2022-09-16T18:59:13.687784Z",
          "iopub.status.busy": "2022-09-16T18:59:13.687330Z",
          "iopub.status.idle": "2022-09-16T18:59:13.696153Z",
          "shell.execute_reply": "2022-09-16T18:59:13.694310Z"
        },
        "id": "223d460b",
        "papermill": {
          "duration": 0.032556,
          "end_time": "2022-09-16T18:59:13.698565",
          "exception": false,
          "start_time": "2022-09-16T18:59:13.666009",
          "status": "completed"
        },
        "tags": []
      },
      "outputs": [],
      "source": [
        "month_list = retention_percent.reset_index()['CohortMonthYear']\n",
        "\n",
        "def get_month_name(x):\n",
        "   return dt.datetime.strftime(x, '%b-%y')\n",
        "  \n",
        "month_list = month_list.apply(get_month_name)"
      ]
    },
    {
      "cell_type": "code",
      "execution_count": 31,
      "id": "e88f5bce",
      "metadata": {
        "execution": {
          "iopub.execute_input": "2022-09-16T18:59:13.743864Z",
          "iopub.status.busy": "2022-09-16T18:59:13.743530Z",
          "iopub.status.idle": "2022-09-16T18:59:14.375805Z",
          "shell.execute_reply": "2022-09-16T18:59:14.374832Z"
        },
        "id": "e88f5bce",
        "outputId": "5aa8cc39-b341-42c0-e5b1-9ced6d9fb87a",
        "papermill": {
          "duration": 0.657152,
          "end_time": "2022-09-16T18:59:14.377980",
          "exception": false,
          "start_time": "2022-09-16T18:59:13.720828",
          "status": "completed"
        },
        "tags": [],
        "colab": {
          "base_uri": "https://localhost:8080/",
          "height": 532
        }
      },
      "outputs": [
        {
          "output_type": "display_data",
          "data": {
            "text/plain": [
              "<Figure size 1500x700 with 2 Axes>"
            ],
            "image/png": "[encoded data removed]"
          },
          "metadata": {}
        }
      ],
      "source": [
        "\n",
        "plt.figure(figsize=(15,7))\n",
        "plt.title('Percentage Retention by Cohort')\n",
        "sns.heatmap(data=retention_percent,annot = True,vmin = 0.0, cmap=\"BuPu\",vmax = list(retention_percent.max().sort_values(ascending = False))[1]+3,fmt = '.1f',yticklabels=month_list)\n",
        "plt.show()"
      ]
    },
    {
      "cell_type": "markdown",
      "id": "416140b1",
      "metadata": {
        "id": "416140b1",
        "papermill": {
          "duration": 0.021222,
          "end_time": "2022-09-16T18:59:14.420934",
          "exception": false,
          "start_time": "2022-09-16T18:59:14.399712",
          "status": "completed"
        },
        "tags": []
      },
      "source": [
        "Seperti yang dapat kita lihat, retensi pelanggan menunjukkan tren penurunan secara umum seiring berjalannya waktu.\n",
        "\n",
        "Berdasarkan grafik analisis kohort dari Persentase Retensi kohort, kami menyimpulkan beberapa hal berikut:\n",
        "\n",
        "1. Pelanggan yang membeli pertama kali pada bulan Desember 2010, terjadi penurunan yang signifikan dalam pembelian pelanggan pada 11 bulan berikutnya, namun pada akhir tahun pelanggan kembali membeli produk di toko dengan selisih yang sangat besar - Hal ini disebabkan oleh penjualan atau diskon akhir tahun yang dilakukan untuk menarik pelanggan baru dan lama untuk membeli yang mana hal ini merupakan solusi yang baik namun bersifat sementara untuk meningkatkan pendapatan. \n",
        "\n",
        "2. Selama bulan Mei hingga Agustus 2011, kita dapat melihat bahwa tingkat retensi meningkat setelah jeda. Untuk sebagian besar wilayah, tingkat retensi meningkat setelah 8 hingga 10 periode tetapi kemudian akhir tahun menurun. Peningkatan ini bisa jadi karena pemasaran email yang dilakukan dengan pelanggan lama yang memungkinkan mereka untuk kembali membeli produk, tetapi pada akhirnya, lebih sedikit pelanggan yang kembali karena tidak ada atau kurang komunikasi dengan toko. Toko harus memulai voucher diskon untuk pelanggan, yang melakukan pembelian setiap bulannya. Dengan cara ini, mereka akan dapat meningkatkan pendapatan mereka."
      ]
    },
    {
      "cell_type": "markdown",
      "id": "bcf0ca00",
      "metadata": {
        "id": "bcf0ca00",
        "papermill": {
          "duration": 0.021229,
          "end_time": "2022-09-16T18:59:14.463614",
          "exception": false,
          "start_time": "2022-09-16T18:59:14.442385",
          "status": "completed"
        },
        "tags": []
      },
      "source": [
        "Q- Bagaimana perilaku belanja rata-rata dari setiap kelompok"
      ]
    },
    {
      "cell_type": "code",
      "execution_count": 32,
      "id": "874967f9",
      "metadata": {
        "execution": {
          "iopub.execute_input": "2022-09-16T18:59:14.509134Z",
          "iopub.status.busy": "2022-09-16T18:59:14.508778Z",
          "iopub.status.idle": "2022-09-16T18:59:14.522928Z",
          "shell.execute_reply": "2022-09-16T18:59:14.521411Z"
        },
        "id": "874967f9",
        "papermill": {
          "duration": 0.03973,
          "end_time": "2022-09-16T18:59:14.525436",
          "exception": false,
          "start_time": "2022-09-16T18:59:14.485706",
          "status": "completed"
        },
        "tags": []
      },
      "outputs": [],
      "source": [
        "gp=group['UnitPrice'].mean().reset_index()\n",
        "average_price = gp.pivot(index='CohortMonthYear', columns='MonthsRetained', values='UnitPrice')\n",
        "average_price.index = average_price.index.date"
      ]
    },
    {
      "cell_type": "code",
      "execution_count": 33,
      "id": "d8c1880e",
      "metadata": {
        "execution": {
          "iopub.execute_input": "2022-09-16T18:59:14.569433Z",
          "iopub.status.busy": "2022-09-16T18:59:14.569016Z",
          "iopub.status.idle": "2022-09-16T18:59:15.047896Z",
          "shell.execute_reply": "2022-09-16T18:59:15.047314Z"
        },
        "id": "d8c1880e",
        "outputId": "fcd4a7fe-f0c0-47e9-e956-2828f72b6448",
        "papermill": {
          "duration": 0.50386,
          "end_time": "2022-09-16T18:59:15.050044",
          "exception": false,
          "start_time": "2022-09-16T18:59:14.546184",
          "status": "completed"
        },
        "tags": [],
        "colab": {
          "base_uri": "https://localhost:8080/",
          "height": 545
        }
      },
      "outputs": [
        {
          "output_type": "display_data",
          "data": {
            "text/plain": [
              "<Figure size 1500x700 with 2 Axes>"
            ],
            "image/png": "[encoded data removed]"
          },
          "metadata": {}
        }
      ],
      "source": [
        "plt.figure(figsize=(15,7))\n",
        "sns.heatmap(data = average_price,annot=True,vmin = 0.0, cmap=\"BuPu\",vmax = list(average_price.max().sort_values(ascending = False))[1]+3,fmt = '.1f',yticklabels=month_list)\n",
        "plt.title('Average Spending by Cohort')\n",
        "plt.show()"
      ]
    },
    {
      "cell_type": "markdown",
      "id": "bdeb16a4",
      "metadata": {
        "id": "bdeb16a4",
        "papermill": {
          "duration": 0.021876,
          "end_time": "2022-09-16T18:59:15.094465",
          "exception": false,
          "start_time": "2022-09-16T18:59:15.072589",
          "status": "completed"
        },
        "tags": []
      },
      "source": [
        "Pengeluaran rata-rata setiap kelompok per bulan tetap stabil, dengan beberapa pengecualian."
      ]
    },
    {
      "cell_type": "markdown",
      "id": "b0729503",
      "metadata": {
        "id": "b0729503",
        "papermill": {
          "duration": 0.020718,
          "end_time": "2022-09-16T18:59:15.136345",
          "exception": false,
          "start_time": "2022-09-16T18:59:15.115627",
          "status": "completed"
        },
        "tags": []
      },
      "source": [
        "T - Berapa jumlah rata-rata untuk setiap kelompok bulanan?"
      ]
    },
    {
      "cell_type": "code",
      "execution_count": 34,
      "id": "2b5f97c0",
      "metadata": {
        "execution": {
          "iopub.execute_input": "2022-09-16T18:59:15.180993Z",
          "iopub.status.busy": "2022-09-16T18:59:15.180158Z",
          "iopub.status.idle": "2022-09-16T18:59:15.692394Z",
          "shell.execute_reply": "2022-09-16T18:59:15.690945Z"
        },
        "id": "2b5f97c0",
        "outputId": "5732e2b3-bdfe-44bb-c86d-4edaada5e909",
        "papermill": {
          "duration": 0.536876,
          "end_time": "2022-09-16T18:59:15.694591",
          "exception": false,
          "start_time": "2022-09-16T18:59:15.157715",
          "status": "completed"
        },
        "tags": [],
        "colab": {
          "base_uri": "https://localhost:8080/",
          "height": 535
        }
      },
      "outputs": [
        {
          "output_type": "display_data",
          "data": {
            "text/plain": [
              "<Figure size 1500x700 with 2 Axes>"
            ],
            "image/png": "[encoded data removed]"
          },
          "metadata": {}
        }
      ],
      "source": [
        "gp=group['Quantity'].mean().reset_index()\n",
        "average_quantity = gp.pivot(index='CohortMonthYear', columns='MonthsRetained', values='Quantity')\n",
        "average_quantity.index = average_quantity.index.date\n",
        "\n",
        "plt.figure(figsize=(15,7))\n",
        "sns.heatmap(data = average_quantity,annot=True,vmin = 0.0, cmap=\"BuPu\",vmax = list(average_quantity.max().sort_values(ascending = False))[1]+3,fmt = '.1f',yticklabels=month_list)\n",
        "plt.title('Average Quantity by Cohort')\n",
        "plt.show()"
      ]
    },
    {
      "cell_type": "markdown",
      "id": "51e16885",
      "metadata": {
        "id": "51e16885",
        "papermill": {
          "duration": 0.023501,
          "end_time": "2022-09-16T18:59:15.740257",
          "exception": false,
          "start_time": "2022-09-16T18:59:15.716756",
          "status": "completed"
        },
        "tags": []
      },
      "source": [
        "Berdasarkan grafik di atas, kami melihat bahwa pada bulan Mei 2011, terjadi peningkatan jumlah penjualan yang signifikan di akhir tahun. Hal ini mungkin disebabkan oleh adanya clearance sale yang dilakukan oleh toko-toko yang memungkinkan mereka untuk menjual produk dengan harga murah untuk menghabiskan stok. Namun, dengan melihat grafik retensi kohort pada kohort yang sama di bulan Mei 2011, hal ini tidak meningkatkan jumlah pelanggan baru yang datang ke toko. Hal ini mungkin telah meningkatkan pendapatan tetapi mengorbankan kualitas produk yang pada gilirannya memiliki umpan balik negatif dari pelanggan setia."
      ]
    },
    {
      "cell_type": "markdown",
      "id": "4297548e",
      "metadata": {
        "id": "4297548e",
        "papermill": {
          "duration": 0.021967,
          "end_time": "2022-09-16T18:59:15.785025",
          "exception": false,
          "start_time": "2022-09-16T18:59:15.763058",
          "status": "completed"
        },
        "tags": []
      },
      "source": [
        "Bagaimana tren retensi pelanggan di setiap negara?"
      ]
    },
    {
      "cell_type": "code",
      "execution_count": 35,
      "id": "059b29f6",
      "metadata": {
        "execution": {
          "iopub.execute_input": "2022-09-16T18:59:15.833539Z",
          "iopub.status.busy": "2022-09-16T18:59:15.833228Z",
          "iopub.status.idle": "2022-09-16T18:59:21.700224Z",
          "shell.execute_reply": "2022-09-16T18:59:21.699429Z"
        },
        "id": "059b29f6",
        "outputId": "6df8e842-e6a4-4572-ac4f-6ccf6447a95e",
        "papermill": {
          "duration": 5.894082,
          "end_time": "2022-09-16T18:59:21.702140",
          "exception": false,
          "start_time": "2022-09-16T18:59:15.808058",
          "status": "completed"
        },
        "tags": [],
        "colab": {
          "base_uri": "https://localhost:8080/",
          "height": 962
        }
      },
      "outputs": [
        {
          "output_type": "display_data",
          "data": {
            "text/plain": [
              "<Figure size 640x480 with 1 Axes>"
            ],
            "image/png": "[encoded data removed]"
          },
          "metadata": {}
        },
        {
          "output_type": "error",
          "ename": "KeyError",
          "evalue": "ignored",
          "traceback": [
            "\u001b[0;31m---------------------------------------------------------------------------\u001b[0m",
            "\u001b[0;31mKeyError\u001b[0m                                  Traceback (most recent call last)",
            "\u001b[0;32m/usr/local/lib/python3.9/dist-packages/pandas/core/indexes/base.py\u001b[0m in \u001b[0;36mget_loc\u001b[0;34m(self, key, method, tolerance)\u001b[0m\n\u001b[1;32m   3801\u001b[0m             \u001b[0;32mtry\u001b[0m\u001b[0;34m:\u001b[0m\u001b[0;34m\u001b[0m\u001b[0;34m\u001b[0m\u001b[0m\n\u001b[0;32m-> 3802\u001b[0;31m                 \u001b[0;32mreturn\u001b[0m \u001b[0mself\u001b[0m\u001b[0;34m.\u001b[0m\u001b[0m_engine\u001b[0m\u001b[0;34m.\u001b[0m\u001b[0mget_loc\u001b[0m\u001b[0;34m(\u001b[0m\u001b[0mcasted_key\u001b[0m\u001b[0;34m)\u001b[0m\u001b[0;34m\u001b[0m\u001b[0;34m\u001b[0m\u001b[0m\n\u001b[0m\u001b[1;32m   3803\u001b[0m             \u001b[0;32mexcept\u001b[0m \u001b[0mKeyError\u001b[0m \u001b[0;32mas\u001b[0m \u001b[0merr\u001b[0m\u001b[0;34m:\u001b[0m\u001b[0;34m\u001b[0m\u001b[0;34m\u001b[0m\u001b[0m\n",
            "\u001b[0;32m/usr/local/lib/python3.9/dist-packages/pandas/_libs/index.pyx\u001b[0m in \u001b[0;36mpandas._libs.index.IndexEngine.get_loc\u001b[0;34m()\u001b[0m\n",
            "\u001b[0;32m/usr/local/lib/python3.9/dist-packages/pandas/_libs/index.pyx\u001b[0m in \u001b[0;36mpandas._libs.index.IndexEngine.get_loc\u001b[0;34m()\u001b[0m\n",
            "\u001b[0;32mpandas/_libs/hashtable_class_helper.pxi\u001b[0m in \u001b[0;36mpandas._libs.hashtable.Int64HashTable.get_item\u001b[0;34m()\u001b[0m\n",
            "\u001b[0;32mpandas/_libs/hashtable_class_helper.pxi\u001b[0m in \u001b[0;36mpandas._libs.hashtable.Int64HashTable.get_item\u001b[0;34m()\u001b[0m\n",
            "\u001b[0;31mKeyError\u001b[0m: 0",
            "\nThe above exception was the direct cause of the following exception:\n",
            "\u001b[0;31mKeyError\u001b[0m                                  Traceback (most recent call last)",
            "\u001b[0;32m<ipython-input-35-e599599196c4>\u001b[0m in \u001b[0;36m<cell line: 3>\u001b[0;34m()\u001b[0m\n\u001b[1;32m      3\u001b[0m \u001b[0;32mfor\u001b[0m \u001b[0mx\u001b[0m \u001b[0;32min\u001b[0m \u001b[0mdata\u001b[0m\u001b[0;34m[\u001b[0m\u001b[0;34m'Country'\u001b[0m\u001b[0;34m]\u001b[0m\u001b[0;34m.\u001b[0m\u001b[0munique\u001b[0m\u001b[0;34m(\u001b[0m\u001b[0;34m)\u001b[0m\u001b[0;34m:\u001b[0m\u001b[0;34m\u001b[0m\u001b[0;34m\u001b[0m\u001b[0m\n\u001b[1;32m      4\u001b[0m   \u001b[0mdata2\u001b[0m\u001b[0;34m=\u001b[0m\u001b[0mdata\u001b[0m\u001b[0;34m[\u001b[0m\u001b[0mdata\u001b[0m\u001b[0;34m[\u001b[0m\u001b[0;34m'Country'\u001b[0m\u001b[0;34m]\u001b[0m\u001b[0;34m==\u001b[0m\u001b[0mx\u001b[0m\u001b[0;34m]\u001b[0m\u001b[0;34m\u001b[0m\u001b[0;34m\u001b[0m\u001b[0m\n\u001b[0;32m----> 5\u001b[0;31m   \u001b[0msns\u001b[0m\u001b[0;34m.\u001b[0m\u001b[0mcountplot\u001b[0m\u001b[0;34m(\u001b[0m\u001b[0mdata2\u001b[0m\u001b[0;34m[\u001b[0m\u001b[0;34m'MonthsRetained'\u001b[0m\u001b[0;34m]\u001b[0m\u001b[0;34m)\u001b[0m\u001b[0;34m\u001b[0m\u001b[0;34m\u001b[0m\u001b[0m\n\u001b[0m\u001b[1;32m      6\u001b[0m   \u001b[0mplt\u001b[0m\u001b[0;34m.\u001b[0m\u001b[0mxlabel\u001b[0m\u001b[0;34m(\u001b[0m\u001b[0mx\u001b[0m\u001b[0;34m)\u001b[0m\u001b[0;34m\u001b[0m\u001b[0;34m\u001b[0m\u001b[0m\n\u001b[1;32m      7\u001b[0m   \u001b[0mplt\u001b[0m\u001b[0;34m.\u001b[0m\u001b[0mshow\u001b[0m\u001b[0;34m(\u001b[0m\u001b[0;34m)\u001b[0m\u001b[0;34m\u001b[0m\u001b[0;34m\u001b[0m\u001b[0m\n",
            "\u001b[0;32m/usr/local/lib/python3.9/dist-packages/seaborn/categorical.py\u001b[0m in \u001b[0;36mcountplot\u001b[0;34m(data, x, y, hue, order, hue_order, orient, color, palette, saturation, width, dodge, ax, **kwargs)\u001b[0m\n\u001b[1;32m   2941\u001b[0m         \u001b[0;32mraise\u001b[0m \u001b[0mValueError\u001b[0m\u001b[0;34m(\u001b[0m\u001b[0;34m\"Cannot pass values for both `x` and `y`\"\u001b[0m\u001b[0;34m)\u001b[0m\u001b[0;34m\u001b[0m\u001b[0;34m\u001b[0m\u001b[0m\n\u001b[1;32m   2942\u001b[0m \u001b[0;34m\u001b[0m\u001b[0m\n\u001b[0;32m-> 2943\u001b[0;31m     plotter = _CountPlotter(\n\u001b[0m\u001b[1;32m   2944\u001b[0m         \u001b[0mx\u001b[0m\u001b[0;34m,\u001b[0m \u001b[0my\u001b[0m\u001b[0;34m,\u001b[0m \u001b[0mhue\u001b[0m\u001b[0;34m,\u001b[0m \u001b[0mdata\u001b[0m\u001b[0;34m,\u001b[0m \u001b[0morder\u001b[0m\u001b[0;34m,\u001b[0m \u001b[0mhue_order\u001b[0m\u001b[0;34m,\u001b[0m\u001b[0;34m\u001b[0m\u001b[0;34m\u001b[0m\u001b[0m\n\u001b[1;32m   2945\u001b[0m         \u001b[0mestimator\u001b[0m\u001b[0;34m,\u001b[0m \u001b[0merrorbar\u001b[0m\u001b[0;34m,\u001b[0m \u001b[0mn_boot\u001b[0m\u001b[0;34m,\u001b[0m \u001b[0munits\u001b[0m\u001b[0;34m,\u001b[0m \u001b[0mseed\u001b[0m\u001b[0;34m,\u001b[0m\u001b[0;34m\u001b[0m\u001b[0;34m\u001b[0m\u001b[0m\n",
            "\u001b[0;32m/usr/local/lib/python3.9/dist-packages/seaborn/categorical.py\u001b[0m in \u001b[0;36m__init__\u001b[0;34m(self, x, y, hue, data, order, hue_order, estimator, errorbar, n_boot, units, seed, orient, color, palette, saturation, width, errcolor, errwidth, capsize, dodge)\u001b[0m\n\u001b[1;32m   1528\u001b[0m                  errcolor, errwidth, capsize, dodge):\n\u001b[1;32m   1529\u001b[0m         \u001b[0;34m\"\"\"Initialize the plotter.\"\"\"\u001b[0m\u001b[0;34m\u001b[0m\u001b[0;34m\u001b[0m\u001b[0m\n\u001b[0;32m-> 1530\u001b[0;31m         self.establish_variables(x, y, hue, data, orient,\n\u001b[0m\u001b[1;32m   1531\u001b[0m                                  order, hue_order, units)\n\u001b[1;32m   1532\u001b[0m         \u001b[0mself\u001b[0m\u001b[0;34m.\u001b[0m\u001b[0mestablish_colors\u001b[0m\u001b[0;34m(\u001b[0m\u001b[0mcolor\u001b[0m\u001b[0;34m,\u001b[0m \u001b[0mpalette\u001b[0m\u001b[0;34m,\u001b[0m \u001b[0msaturation\u001b[0m\u001b[0;34m)\u001b[0m\u001b[0;34m\u001b[0m\u001b[0;34m\u001b[0m\u001b[0m\n",
            "\u001b[0;32m/usr/local/lib/python3.9/dist-packages/seaborn/categorical.py\u001b[0m in \u001b[0;36mestablish_variables\u001b[0;34m(self, x, y, hue, data, orient, order, hue_order, units)\u001b[0m\n\u001b[1;32m    484\u001b[0m                 \u001b[0;32mif\u001b[0m \u001b[0mhasattr\u001b[0m\u001b[0;34m(\u001b[0m\u001b[0mdata\u001b[0m\u001b[0;34m,\u001b[0m \u001b[0;34m\"shape\"\u001b[0m\u001b[0;34m)\u001b[0m\u001b[0;34m:\u001b[0m\u001b[0;34m\u001b[0m\u001b[0;34m\u001b[0m\u001b[0m\n\u001b[1;32m    485\u001b[0m                     \u001b[0;32mif\u001b[0m \u001b[0mlen\u001b[0m\u001b[0;34m(\u001b[0m\u001b[0mdata\u001b[0m\u001b[0;34m.\u001b[0m\u001b[0mshape\u001b[0m\u001b[0;34m)\u001b[0m \u001b[0;34m==\u001b[0m \u001b[0;36m1\u001b[0m\u001b[0;34m:\u001b[0m\u001b[0;34m\u001b[0m\u001b[0;34m\u001b[0m\u001b[0m\n\u001b[0;32m--> 486\u001b[0;31m                         \u001b[0;32mif\u001b[0m \u001b[0mnp\u001b[0m\u001b[0;34m.\u001b[0m\u001b[0misscalar\u001b[0m\u001b[0;34m(\u001b[0m\u001b[0mdata\u001b[0m\u001b[0;34m[\u001b[0m\u001b[0;36m0\u001b[0m\u001b[0;34m]\u001b[0m\u001b[0;34m)\u001b[0m\u001b[0;34m:\u001b[0m\u001b[0;34m\u001b[0m\u001b[0;34m\u001b[0m\u001b[0m\n\u001b[0m\u001b[1;32m    487\u001b[0m                             \u001b[0mplot_data\u001b[0m \u001b[0;34m=\u001b[0m \u001b[0;34m[\u001b[0m\u001b[0mdata\u001b[0m\u001b[0;34m]\u001b[0m\u001b[0;34m\u001b[0m\u001b[0;34m\u001b[0m\u001b[0m\n\u001b[1;32m    488\u001b[0m                         \u001b[0;32melse\u001b[0m\u001b[0;34m:\u001b[0m\u001b[0;34m\u001b[0m\u001b[0;34m\u001b[0m\u001b[0m\n",
            "\u001b[0;32m/usr/local/lib/python3.9/dist-packages/pandas/core/series.py\u001b[0m in \u001b[0;36m__getitem__\u001b[0;34m(self, key)\u001b[0m\n\u001b[1;32m    979\u001b[0m \u001b[0;34m\u001b[0m\u001b[0m\n\u001b[1;32m    980\u001b[0m         \u001b[0;32melif\u001b[0m \u001b[0mkey_is_scalar\u001b[0m\u001b[0;34m:\u001b[0m\u001b[0;34m\u001b[0m\u001b[0;34m\u001b[0m\u001b[0m\n\u001b[0;32m--> 981\u001b[0;31m             \u001b[0;32mreturn\u001b[0m \u001b[0mself\u001b[0m\u001b[0;34m.\u001b[0m\u001b[0m_get_value\u001b[0m\u001b[0;34m(\u001b[0m\u001b[0mkey\u001b[0m\u001b[0;34m)\u001b[0m\u001b[0;34m\u001b[0m\u001b[0;34m\u001b[0m\u001b[0m\n\u001b[0m\u001b[1;32m    982\u001b[0m \u001b[0;34m\u001b[0m\u001b[0m\n\u001b[1;32m    983\u001b[0m         \u001b[0;32mif\u001b[0m \u001b[0mis_hashable\u001b[0m\u001b[0;34m(\u001b[0m\u001b[0mkey\u001b[0m\u001b[0;34m)\u001b[0m\u001b[0;34m:\u001b[0m\u001b[0;34m\u001b[0m\u001b[0;34m\u001b[0m\u001b[0m\n",
            "\u001b[0;32m/usr/local/lib/python3.9/dist-packages/pandas/core/series.py\u001b[0m in \u001b[0;36m_get_value\u001b[0;34m(self, label, takeable)\u001b[0m\n\u001b[1;32m   1087\u001b[0m \u001b[0;34m\u001b[0m\u001b[0m\n\u001b[1;32m   1088\u001b[0m         \u001b[0;31m# Similar to Index.get_value, but we do not fall back to positional\u001b[0m\u001b[0;34m\u001b[0m\u001b[0;34m\u001b[0m\u001b[0m\n\u001b[0;32m-> 1089\u001b[0;31m         \u001b[0mloc\u001b[0m \u001b[0;34m=\u001b[0m \u001b[0mself\u001b[0m\u001b[0;34m.\u001b[0m\u001b[0mindex\u001b[0m\u001b[0;34m.\u001b[0m\u001b[0mget_loc\u001b[0m\u001b[0;34m(\u001b[0m\u001b[0mlabel\u001b[0m\u001b[0;34m)\u001b[0m\u001b[0;34m\u001b[0m\u001b[0;34m\u001b[0m\u001b[0m\n\u001b[0m\u001b[1;32m   1090\u001b[0m         \u001b[0;32mreturn\u001b[0m \u001b[0mself\u001b[0m\u001b[0;34m.\u001b[0m\u001b[0mindex\u001b[0m\u001b[0;34m.\u001b[0m\u001b[0m_get_values_for_loc\u001b[0m\u001b[0;34m(\u001b[0m\u001b[0mself\u001b[0m\u001b[0;34m,\u001b[0m \u001b[0mloc\u001b[0m\u001b[0;34m,\u001b[0m \u001b[0mlabel\u001b[0m\u001b[0;34m)\u001b[0m\u001b[0;34m\u001b[0m\u001b[0;34m\u001b[0m\u001b[0m\n\u001b[1;32m   1091\u001b[0m \u001b[0;34m\u001b[0m\u001b[0m\n",
            "\u001b[0;32m/usr/local/lib/python3.9/dist-packages/pandas/core/indexes/base.py\u001b[0m in \u001b[0;36mget_loc\u001b[0;34m(self, key, method, tolerance)\u001b[0m\n\u001b[1;32m   3802\u001b[0m                 \u001b[0;32mreturn\u001b[0m \u001b[0mself\u001b[0m\u001b[0;34m.\u001b[0m\u001b[0m_engine\u001b[0m\u001b[0;34m.\u001b[0m\u001b[0mget_loc\u001b[0m\u001b[0;34m(\u001b[0m\u001b[0mcasted_key\u001b[0m\u001b[0;34m)\u001b[0m\u001b[0;34m\u001b[0m\u001b[0;34m\u001b[0m\u001b[0m\n\u001b[1;32m   3803\u001b[0m             \u001b[0;32mexcept\u001b[0m \u001b[0mKeyError\u001b[0m \u001b[0;32mas\u001b[0m \u001b[0merr\u001b[0m\u001b[0;34m:\u001b[0m\u001b[0;34m\u001b[0m\u001b[0;34m\u001b[0m\u001b[0m\n\u001b[0;32m-> 3804\u001b[0;31m                 \u001b[0;32mraise\u001b[0m \u001b[0mKeyError\u001b[0m\u001b[0;34m(\u001b[0m\u001b[0mkey\u001b[0m\u001b[0;34m)\u001b[0m \u001b[0;32mfrom\u001b[0m \u001b[0merr\u001b[0m\u001b[0;34m\u001b[0m\u001b[0;34m\u001b[0m\u001b[0m\n\u001b[0m\u001b[1;32m   3805\u001b[0m             \u001b[0;32mexcept\u001b[0m \u001b[0mTypeError\u001b[0m\u001b[0;34m:\u001b[0m\u001b[0;34m\u001b[0m\u001b[0;34m\u001b[0m\u001b[0m\n\u001b[1;32m   3806\u001b[0m                 \u001b[0;31m# If we have a listlike key, _check_indexing_error will raise\u001b[0m\u001b[0;34m\u001b[0m\u001b[0;34m\u001b[0m\u001b[0m\n",
            "\u001b[0;31mKeyError\u001b[0m: 0"
          ]
        }
      ],
      "source": [
        "\n",
        "plt.title(\"Trend of customer retention by country\", fontsize=18, y=1)\n",
        "\n",
        "for x in data['Country'].unique():\n",
        "  data2=data[data['Country']==x]\n",
        "  sns.countplot(data2['MonthsRetained'])\n",
        "  plt.xlabel(x)\n",
        "  plt.show()"
      ]
    },
    {
      "cell_type": "markdown",
      "id": "6963713f",
      "metadata": {
        "id": "6963713f",
        "papermill": {
          "duration": 0.030492,
          "end_time": "2022-09-16T18:59:21.773167",
          "exception": false,
          "start_time": "2022-09-16T18:59:21.742675",
          "status": "completed"
        },
        "tags": []
      },
      "source": [
        "Di sejumlah besar negara, kami mengamati bahwa retensi jauh lebih banyak dibandingkan dengan Inggris, namun dikalahkan oleh rendahnya jumlah pelanggan. Oleh karena itu, salah satu solusinya adalah dengan fokus pada peningkatan jangkauan perusahaan di pasar luar negeri, terutama yang memiliki tingkat gesekan yang rendah, seperti Belanda, Islandia, EIRE, Australia, dll.\n",
        "\n",
        "Selain itu, harus ada fleksibilitas untuk memiliki kompatibilitas bahasa di toko online sehingga pelanggan di berbagai negara dapat menjalin hubungan jangka panjang dengan toko dan melakukan pembelian dengan mudah. Meningkatkan tingkat retensi pada saat yang bersamaan.\n",
        "\n",
        "Pengamatan Utama:\n",
        "\n",
        "1. Di EIRE, tidak ada kelompok yang terbentuk setelah Desember 2010. Hal ini menjadi perhatian utama. EIRE adalah pasar potensial terbesar keempat mereka. Selain itu, tingkat retensi EIRE lebih baik daripada bagian counterpart-nya yang mencapai hingga 100% setelah periode tertentu. Hal ini mengisyaratkan bahwa basis pelanggan EIRE sangat loyal. Toko e-commerce harus melakukan kampanye di EIRE untuk lebih memanfaatkan pasar potensial ini dan mendapatkan lebih banyak pelanggan setia, yang pada gilirannya meningkatkan pendapatan.\n",
        "\n",
        "2. Pasar Inggris adalah basis pelanggan terbesar mereka. Namun, sebagian besar pengembalian juga berasal dari Inggris. Ini adalah situasi yang mengkhawatirkan. Toko harus lebih fokus pada kebutuhan dan keinginan basis pelanggan Inggris untuk meningkatkan pendapatan lebih jauh."
      ]
    },
    {
      "cell_type": "markdown",
      "id": "43a95469",
      "metadata": {
        "id": "43a95469",
        "papermill": {
          "duration": 0.029568,
          "end_time": "2022-09-16T18:59:21.831788",
          "exception": false,
          "start_time": "2022-09-16T18:59:21.802220",
          "status": "completed"
        },
        "tags": []
      },
      "source": [
        "### Analisis matriks retensi berdasarkan negara\n",
        "Seperti yang kami amati, orang-orang dari berbagai negara menjadi pelanggan. Mari kita lihat situasinya berdasarkan negara."
      ]
    },
    {
      "cell_type": "markdown",
      "id": "77d3e865",
      "metadata": {
        "id": "77d3e865",
        "papermill": {
          "duration": 0.029239,
          "end_time": "2022-09-16T18:59:21.890649",
          "exception": false,
          "start_time": "2022-09-16T18:59:21.861410",
          "status": "completed"
        },
        "tags": []
      },
      "source": [
        "### UK"
      ]
    },
    {
      "cell_type": "code",
      "execution_count": null,
      "id": "fd16438b",
      "metadata": {
        "execution": {
          "iopub.execute_input": "2022-09-16T18:59:21.951217Z",
          "iopub.status.busy": "2022-09-16T18:59:21.950680Z",
          "iopub.status.idle": "2022-09-16T18:59:23.024739Z",
          "shell.execute_reply": "2022-09-16T18:59:23.023148Z"
        },
        "id": "fd16438b",
        "papermill": {
          "duration": 1.107224,
          "end_time": "2022-09-16T18:59:23.027330",
          "exception": false,
          "start_time": "2022-09-16T18:59:21.920106",
          "status": "completed"
        },
        "tags": []
      },
      "outputs": [],
      "source": [
        "# filtering records for UK only\n",
        "dfUK = data[data['Country']=='United Kingdom']\n",
        "\n",
        "# drop irrelevant columns and duplicate records\n",
        "dfUK = dfUK[['CustomerID', 'InvoiceNo', 'InvoiceDate']].drop_duplicates()\n",
        "\n",
        "# order month\n",
        "dfUK['order_month'] = dfUK['InvoiceDate'].dt.to_period('M')\n",
        "\n",
        "# first purchase date for that customer\n",
        "dfUK['cohort'] = dfUK.groupby('CustomerID')['InvoiceDate'] \\\n",
        "                 .transform('min') \\\n",
        "                 .dt.to_period('M')\n",
        "\n",
        "# a dataframe with cohort, order_month, n_customers, and period number\n",
        "df_cohort = dfUK.groupby(['cohort', 'order_month']) \\\n",
        "              .agg(n_customers=('CustomerID', 'nunique')) \\\n",
        "              .reset_index(drop=False)\n",
        "df_cohort['period_number'] = (df_cohort.order_month - df_cohort.cohort).apply(attrgetter('n'))\n",
        "\n",
        "# pivot the df_cohort\n",
        "cohort_pivot = df_cohort.pivot_table(index = 'cohort',\n",
        "                                     columns = 'period_number',\n",
        "                                     values = 'n_customers')\n",
        "\n",
        "# calculate retention matrix\n",
        "cohort_size = cohort_pivot.iloc[:,0]\n",
        "retention_matrix = cohort_pivot.divide(cohort_size, axis = 0)\n",
        "\n",
        "\n",
        "# plot the retenton matrix\n",
        "with sns.axes_style(\"white\"):\n",
        "    fig, ax = plt.subplots(1, 2, figsize=(12, 8), sharey=True, gridspec_kw={'width_ratios': [1, 11]})\n",
        "    \n",
        "    # retention matrix\n",
        "    sns.heatmap(retention_matrix, \n",
        "                mask=retention_matrix.isnull(), \n",
        "                annot=True, \n",
        "                fmt='.0%', \n",
        "                cmap='RdYlGn', \n",
        "                ax=ax[1])\n",
        "    ax[1].set_title('Monthly Cohorts: User Retention in UK', fontsize=16)\n",
        "    ax[1].set(xlabel='# of periods',\n",
        "              ylabel='')\n",
        "\n",
        "    # cohort size\n",
        "    cohort_size_df = pd.DataFrame(cohort_size).rename(columns={0: 'cohort_size'})\n",
        "    white_cmap = mcolors.ListedColormap(['white'])\n",
        "    sns.heatmap(cohort_size_df, \n",
        "                annot=True, \n",
        "                cbar=False, \n",
        "                fmt='g', \n",
        "                cmap=white_cmap, \n",
        "                ax=ax[0])\n",
        "\n",
        "    fig.tight_layout()"
      ]
    },
    {
      "cell_type": "code",
      "execution_count": null,
      "id": "656b440c",
      "metadata": {
        "execution": {
          "iopub.execute_input": "2022-09-16T18:59:23.090271Z",
          "iopub.status.busy": "2022-09-16T18:59:23.089958Z",
          "iopub.status.idle": "2022-09-16T18:59:23.256285Z",
          "shell.execute_reply": "2022-09-16T18:59:23.254977Z"
        },
        "id": "656b440c",
        "papermill": {
          "duration": 0.200416,
          "end_time": "2022-09-16T18:59:23.258543",
          "exception": false,
          "start_time": "2022-09-16T18:59:23.058127",
          "status": "completed"
        },
        "tags": []
      },
      "outputs": [],
      "source": [
        "plt.plot(retention_matrix.mean())\n",
        "plt.xlabel('# of periods')\n",
        "plt.ylabel('retention rate')\n",
        "plt.title('retention rate in the UK')"
      ]
    },
    {
      "cell_type": "markdown",
      "id": "0fa6b1e3",
      "metadata": {
        "id": "0fa6b1e3",
        "papermill": {
          "duration": 0.03056,
          "end_time": "2022-09-16T18:59:23.320233",
          "exception": false,
          "start_time": "2022-09-16T18:59:23.289673",
          "status": "completed"
        },
        "tags": []
      },
      "source": [
        "### Germany"
      ]
    },
    {
      "cell_type": "code",
      "execution_count": null,
      "id": "edb3c2f0",
      "metadata": {
        "execution": {
          "iopub.execute_input": "2022-09-16T18:59:23.384939Z",
          "iopub.status.busy": "2022-09-16T18:59:23.384570Z",
          "iopub.status.idle": "2022-09-16T18:59:24.306586Z",
          "shell.execute_reply": "2022-09-16T18:59:24.305239Z"
        },
        "id": "edb3c2f0",
        "papermill": {
          "duration": 0.957219,
          "end_time": "2022-09-16T18:59:24.308940",
          "exception": false,
          "start_time": "2022-09-16T18:59:23.351721",
          "status": "completed"
        },
        "tags": []
      },
      "outputs": [],
      "source": [
        "# filtering records for Germany only\n",
        "dfGermany = data[data['Country']=='Germany']\n",
        "\n",
        "# drop irrelevant columns and duplicate records\n",
        "dfGermany = dfGermany[['CustomerID', 'InvoiceNo', 'InvoiceDate']].drop_duplicates()\n",
        "\n",
        "# order month\n",
        "dfGermany['order_month'] = dfGermany['InvoiceDate'].dt.to_period('M')\n",
        "\n",
        "# first purchase date for that customer\n",
        "dfGermany['cohort'] = dfGermany.groupby('CustomerID')['InvoiceDate'] \\\n",
        "                 .transform('min') \\\n",
        "                 .dt.to_period('M')\n",
        "\n",
        "# a dataframe with cohort, order_month, n_customers, and period number\n",
        "df_cohort = dfGermany.groupby(['cohort', 'order_month']) \\\n",
        "              .agg(n_customers=('CustomerID', 'nunique')) \\\n",
        "              .reset_index(drop=False)\n",
        "\n",
        "df_cohort['period_number'] = (df_cohort.order_month - df_cohort.cohort).apply(attrgetter('n'))\n",
        "\n",
        "# pivot the df_cohort\n",
        "cohort_pivot = df_cohort.pivot_table(index = 'cohort',\n",
        "                                     columns = 'period_number',\n",
        "                                     values = 'n_customers')\n",
        "\n",
        "# calculate retention matrix\n",
        "cohort_size = cohort_pivot.iloc[:,0]\n",
        "retention_matrix = cohort_pivot.divide(cohort_size, axis = 0)\n",
        "\n",
        "\n",
        "# plot the retenton matrix\n",
        "with sns.axes_style(\"white\"):\n",
        "    fig, ax = plt.subplots(1, 2, figsize=(12, 8), sharey=True, gridspec_kw={'width_ratios': [1, 11]})\n",
        "    \n",
        "    # retention matrix\n",
        "    sns.heatmap(retention_matrix, \n",
        "                mask=retention_matrix.isnull(), \n",
        "                annot=True, \n",
        "                fmt='.0%', \n",
        "                cmap='RdYlGn', \n",
        "                ax=ax[1])\n",
        "    ax[1].set_title('Monthly Cohorts: User Retention in Germany', fontsize=16)\n",
        "    ax[1].set(xlabel='# of periods',\n",
        "              ylabel='')\n",
        "\n",
        "    # cohort size\n",
        "    cohort_size_df = pd.DataFrame(cohort_size).rename(columns={0: 'cohort_size'})\n",
        "    white_cmap = mcolors.ListedColormap(['white'])\n",
        "    sns.heatmap(cohort_size_df, \n",
        "                annot=True, \n",
        "                cbar=False, \n",
        "                fmt='g', \n",
        "                cmap=white_cmap, \n",
        "                ax=ax[0])\n",
        "\n",
        "    fig.tight_layout()"
      ]
    },
    {
      "cell_type": "code",
      "execution_count": null,
      "id": "07be50c9",
      "metadata": {
        "execution": {
          "iopub.execute_input": "2022-09-16T18:59:24.374788Z",
          "iopub.status.busy": "2022-09-16T18:59:24.374475Z",
          "iopub.status.idle": "2022-09-16T18:59:24.537341Z",
          "shell.execute_reply": "2022-09-16T18:59:24.536057Z"
        },
        "id": "07be50c9",
        "papermill": {
          "duration": 0.198642,
          "end_time": "2022-09-16T18:59:24.539715",
          "exception": false,
          "start_time": "2022-09-16T18:59:24.341073",
          "status": "completed"
        },
        "tags": []
      },
      "outputs": [],
      "source": [
        "# plot retention rate\n",
        "plt.plot(retention_matrix.mean())\n",
        "plt.xlabel('# of periods')\n",
        "plt.ylabel('retention rate')\n",
        "plt.title('retention rate in Germany')"
      ]
    },
    {
      "cell_type": "markdown",
      "id": "4eb87343",
      "metadata": {
        "id": "4eb87343",
        "papermill": {
          "duration": 0.033317,
          "end_time": "2022-09-16T18:59:24.605549",
          "exception": false,
          "start_time": "2022-09-16T18:59:24.572232",
          "status": "completed"
        },
        "tags": []
      },
      "source": [
        "### Australia"
      ]
    },
    {
      "cell_type": "code",
      "execution_count": null,
      "id": "58212209",
      "metadata": {
        "execution": {
          "iopub.execute_input": "2022-09-16T18:59:24.673842Z",
          "iopub.status.busy": "2022-09-16T18:59:24.673524Z",
          "iopub.status.idle": "2022-09-16T18:59:25.253086Z",
          "shell.execute_reply": "2022-09-16T18:59:25.252104Z"
        },
        "id": "58212209",
        "papermill": {
          "duration": 0.615908,
          "end_time": "2022-09-16T18:59:25.254958",
          "exception": false,
          "start_time": "2022-09-16T18:59:24.639050",
          "status": "completed"
        },
        "tags": []
      },
      "outputs": [],
      "source": [
        "# filtering records for Australia only\n",
        "dfAustralia = data[data['Country']=='Australia']\n",
        "\n",
        "# drop irrelevant columns and duplicate records\n",
        "dfAustralia = dfAustralia[['CustomerID', 'InvoiceNo', 'InvoiceDate']].drop_duplicates()\n",
        "\n",
        "# order month\n",
        "dfAustralia['order_month'] = dfAustralia['InvoiceDate'].dt.to_period('M')\n",
        "\n",
        "# first purchase date for that customer\n",
        "dfAustralia['cohort'] = dfAustralia.groupby('CustomerID')['InvoiceDate'] \\\n",
        "                 .transform('min') \\\n",
        "                 .dt.to_period('M')\n",
        "\n",
        "# a dataframe with cohort, order_month, n_customers, and period number\n",
        "df_cohort = dfAustralia.groupby(['cohort', 'order_month']) \\\n",
        "              .agg(n_customers=('CustomerID', 'nunique')) \\\n",
        "              .reset_index(drop=False)\n",
        "\n",
        "df_cohort['period_number'] = (df_cohort.order_month - df_cohort.cohort).apply(attrgetter('n'))\n",
        "\n",
        "# pivot the df_cohort\n",
        "cohort_pivot = df_cohort.pivot_table(index = 'cohort',\n",
        "                                     columns = 'period_number',\n",
        "                                     values = 'n_customers')\n",
        "\n",
        "# calculate retention matrix\n",
        "cohort_size = cohort_pivot.iloc[:,0]\n",
        "retention_matrix = cohort_pivot.divide(cohort_size, axis = 0)\n",
        "\n",
        "\n",
        "# plot the retenton matrix\n",
        "with sns.axes_style(\"white\"):\n",
        "    fig, ax = plt.subplots(1, 2, figsize=(12, 8), sharey=True, gridspec_kw={'width_ratios': [1, 11]})\n",
        "    \n",
        "    # retention matrix\n",
        "    sns.heatmap(retention_matrix, \n",
        "                mask=retention_matrix.isnull(), \n",
        "                annot=True, \n",
        "                fmt='.0%', \n",
        "                cmap='RdYlGn', \n",
        "                ax=ax[1])\n",
        "    ax[1].set_title('Monthly Cohorts: User Retention in Australia', fontsize=16)\n",
        "    ax[1].set(xlabel='# of periods',\n",
        "              ylabel='')\n",
        "\n",
        "    # cohort size\n",
        "    cohort_size_df = pd.DataFrame(cohort_size).rename(columns={0: 'cohort_size'})\n",
        "    white_cmap = mcolors.ListedColormap(['white'])\n",
        "    sns.heatmap(cohort_size_df, \n",
        "                annot=True, \n",
        "                cbar=False, \n",
        "                fmt='g', \n",
        "                cmap=white_cmap, \n",
        "                ax=ax[0])\n",
        "\n",
        "    fig.tight_layout()"
      ]
    },
    {
      "cell_type": "code",
      "execution_count": null,
      "id": "ac84c1f7",
      "metadata": {
        "execution": {
          "iopub.execute_input": "2022-09-16T18:59:25.322185Z",
          "iopub.status.busy": "2022-09-16T18:59:25.321851Z",
          "iopub.status.idle": "2022-09-16T18:59:25.620047Z",
          "shell.execute_reply": "2022-09-16T18:59:25.618246Z"
        },
        "id": "ac84c1f7",
        "papermill": {
          "duration": 0.334218,
          "end_time": "2022-09-16T18:59:25.622341",
          "exception": false,
          "start_time": "2022-09-16T18:59:25.288123",
          "status": "completed"
        },
        "tags": []
      },
      "outputs": [],
      "source": [
        "# plot retention rate\n",
        "plt.plot(retention_matrix.mean())\n",
        "plt.xlabel('# of periods')\n",
        "plt.ylabel('retention rate')\n",
        "plt.title('retention rate in Australia')"
      ]
    },
    {
      "cell_type": "markdown",
      "id": "0f0c7f13",
      "metadata": {
        "id": "0f0c7f13",
        "papermill": {
          "duration": 0.032664,
          "end_time": "2022-09-16T18:59:25.688815",
          "exception": false,
          "start_time": "2022-09-16T18:59:25.656151",
          "status": "completed"
        },
        "tags": []
      },
      "source": [
        "### Netherlands"
      ]
    },
    {
      "cell_type": "code",
      "execution_count": null,
      "id": "1873bc31",
      "metadata": {
        "execution": {
          "iopub.execute_input": "2022-09-16T18:59:25.757026Z",
          "iopub.status.busy": "2022-09-16T18:59:25.756665Z",
          "iopub.status.idle": "2022-09-16T18:59:26.426363Z",
          "shell.execute_reply": "2022-09-16T18:59:26.423614Z"
        },
        "id": "1873bc31",
        "papermill": {
          "duration": 0.707465,
          "end_time": "2022-09-16T18:59:26.429045",
          "exception": false,
          "start_time": "2022-09-16T18:59:25.721580",
          "status": "completed"
        },
        "tags": []
      },
      "outputs": [],
      "source": [
        "# filtering records for Netherlands only\n",
        "dfNetherlands = data[data['Country']=='Netherlands']\n",
        "\n",
        "# drop irrelevant columns and duplicate records\n",
        "dfNetherlands = dfNetherlands[['CustomerID', 'InvoiceNo', 'InvoiceDate']].drop_duplicates()\n",
        "\n",
        "# order month\n",
        "dfNetherlands['order_month'] = dfNetherlands['InvoiceDate'].dt.to_period('M')\n",
        "\n",
        "# first purchase date for that customer\n",
        "dfNetherlands['cohort'] = dfNetherlands.groupby('CustomerID')['InvoiceDate'] \\\n",
        "                 .transform('min') \\\n",
        "                 .dt.to_period('M')\n",
        "\n",
        "# a dataframe with cohort, order_month, n_customers, and period number\n",
        "df_cohort = dfNetherlands.groupby(['cohort', 'order_month']) \\\n",
        "              .agg(n_customers=('CustomerID', 'nunique')) \\\n",
        "              .reset_index(drop=False)\n",
        "\n",
        "df_cohort['period_number'] = (df_cohort.order_month - df_cohort.cohort).apply(attrgetter('n'))\n",
        "\n",
        "# pivot the df_cohort\n",
        "cohort_pivot = df_cohort.pivot_table(index = 'cohort',\n",
        "                                     columns = 'period_number',\n",
        "                                     values = 'n_customers')\n",
        "\n",
        "# calculate retention matrix\n",
        "cohort_size = cohort_pivot.iloc[:,0]\n",
        "retention_matrix = cohort_pivot.divide(cohort_size, axis = 0)\n",
        "\n",
        "\n",
        "# plot the retenton matrix\n",
        "with sns.axes_style(\"white\"):\n",
        "    fig, ax = plt.subplots(1, 2, figsize=(12, 8), sharey=True, gridspec_kw={'width_ratios': [1, 11]})\n",
        "    \n",
        "    # retention matrix\n",
        "    sns.heatmap(retention_matrix, \n",
        "                mask=retention_matrix.isnull(), \n",
        "                annot=True, \n",
        "                fmt='.0%', \n",
        "                cmap='RdYlGn', \n",
        "                ax=ax[1])\n",
        "    ax[1].set_title('Monthly Cohorts: User Retention in Netherlands', fontsize=16)\n",
        "    ax[1].set(xlabel='# of periods',\n",
        "              ylabel='')\n",
        "\n",
        "    # cohort size\n",
        "    cohort_size_df = pd.DataFrame(cohort_size).rename(columns={0: 'cohort_size'})\n",
        "    white_cmap = mcolors.ListedColormap(['white'])\n",
        "    sns.heatmap(cohort_size_df, \n",
        "                annot=True, \n",
        "                cbar=False, \n",
        "                fmt='g', \n",
        "                cmap=white_cmap, \n",
        "                ax=ax[0])\n",
        "\n",
        "    fig.tight_layout()"
      ]
    },
    {
      "cell_type": "code",
      "execution_count": null,
      "id": "0276c0f7",
      "metadata": {
        "execution": {
          "iopub.execute_input": "2022-09-16T18:59:26.498994Z",
          "iopub.status.busy": "2022-09-16T18:59:26.498634Z",
          "iopub.status.idle": "2022-09-16T18:59:26.658034Z",
          "shell.execute_reply": "2022-09-16T18:59:26.656945Z"
        },
        "id": "0276c0f7",
        "papermill": {
          "duration": 0.196352,
          "end_time": "2022-09-16T18:59:26.659695",
          "exception": false,
          "start_time": "2022-09-16T18:59:26.463343",
          "status": "completed"
        },
        "tags": []
      },
      "outputs": [],
      "source": [
        "plt.plot(retention_matrix.mean())\n",
        "plt.xlabel('# of periods')\n",
        "plt.ylabel('retention rate')\n",
        "plt.title('retention rate in the Netherlands')"
      ]
    },
    {
      "cell_type": "markdown",
      "id": "875e65e8",
      "metadata": {
        "id": "875e65e8",
        "papermill": {
          "duration": 0.03357,
          "end_time": "2022-09-16T18:59:26.727791",
          "exception": false,
          "start_time": "2022-09-16T18:59:26.694221",
          "status": "completed"
        },
        "tags": []
      },
      "source": [
        "### Iceland"
      ]
    },
    {
      "cell_type": "code",
      "execution_count": null,
      "id": "9c66a5fb",
      "metadata": {
        "execution": {
          "iopub.execute_input": "2022-09-16T18:59:26.802235Z",
          "iopub.status.busy": "2022-09-16T18:59:26.801916Z",
          "iopub.status.idle": "2022-09-16T18:59:27.249936Z",
          "shell.execute_reply": "2022-09-16T18:59:27.248785Z"
        },
        "id": "9c66a5fb",
        "papermill": {
          "duration": 0.488964,
          "end_time": "2022-09-16T18:59:27.251981",
          "exception": false,
          "start_time": "2022-09-16T18:59:26.763017",
          "status": "completed"
        },
        "tags": []
      },
      "outputs": [],
      "source": [
        "# filtering records for Iceland only\n",
        "dfIceland = data[data['Country']=='Iceland']\n",
        "\n",
        "# drop irrelevant columns and duplicate records\n",
        "dfIceland = dfIceland[['CustomerID', 'InvoiceNo', 'InvoiceDate']].drop_duplicates()\n",
        "\n",
        "# order month\n",
        "dfIceland['order_month'] = dfIceland['InvoiceDate'].dt.to_period('M')\n",
        "\n",
        "# first purchase date for that customer\n",
        "dfIceland['cohort'] = dfIceland.groupby('CustomerID')['InvoiceDate'] \\\n",
        "                 .transform('min') \\\n",
        "                 .dt.to_period('M')\n",
        "\n",
        "# a dataframe with cohort, order_month, n_customers, and period number\n",
        "df_cohort = dfIceland.groupby(['cohort', 'order_month']) \\\n",
        "              .agg(n_customers=('CustomerID', 'nunique')) \\\n",
        "              .reset_index(drop=False)\n",
        "\n",
        "df_cohort['period_number'] = (df_cohort.order_month - df_cohort.cohort).apply(attrgetter('n'))\n",
        "\n",
        "# pivot the df_cohort\n",
        "cohort_pivot = df_cohort.pivot_table(index = 'cohort',\n",
        "                                     columns = 'period_number',\n",
        "                                     values = 'n_customers')\n",
        "\n",
        "# calculate retention matrix\n",
        "cohort_size = cohort_pivot.iloc[:,0]\n",
        "retention_matrix = cohort_pivot.divide(cohort_size, axis = 0)\n",
        "\n",
        "\n",
        "# plot the retenton matrix\n",
        "with sns.axes_style(\"white\"):\n",
        "    fig, ax = plt.subplots(1, 2, figsize=(12, 8), sharey=True, gridspec_kw={'width_ratios': [1, 11]})\n",
        "    \n",
        "    # retention matrix\n",
        "    sns.heatmap(retention_matrix, \n",
        "                mask=retention_matrix.isnull(), \n",
        "                annot=True, \n",
        "                fmt='.0%', \n",
        "                cmap='RdYlGn', \n",
        "                ax=ax[1])\n",
        "    ax[1].set_title('Monthly Cohorts: User Retention in Iceland', fontsize=16)\n",
        "    ax[1].set(xlabel='# of periods',\n",
        "              ylabel='')\n",
        "\n",
        "    # cohort size\n",
        "    cohort_size_df = pd.DataFrame(cohort_size).rename(columns={0: 'cohort_size'})\n",
        "    white_cmap = mcolors.ListedColormap(['white'])\n",
        "    sns.heatmap(cohort_size_df, \n",
        "                annot=True, \n",
        "                cbar=False, \n",
        "                fmt='g', \n",
        "                cmap=white_cmap, \n",
        "                ax=ax[0])\n",
        "\n",
        "    fig.tight_layout()"
      ]
    },
    {
      "cell_type": "code",
      "execution_count": null,
      "id": "6c2bfb29",
      "metadata": {
        "execution": {
          "iopub.execute_input": "2022-09-16T18:59:27.323602Z",
          "iopub.status.busy": "2022-09-16T18:59:27.322504Z",
          "iopub.status.idle": "2022-09-16T18:59:27.470326Z",
          "shell.execute_reply": "2022-09-16T18:59:27.469083Z"
        },
        "id": "6c2bfb29",
        "papermill": {
          "duration": 0.185856,
          "end_time": "2022-09-16T18:59:27.472268",
          "exception": false,
          "start_time": "2022-09-16T18:59:27.286412",
          "status": "completed"
        },
        "tags": []
      },
      "outputs": [],
      "source": [
        "plt.plot(retention_matrix.mean())\n",
        "plt.xlabel('# of periods')\n",
        "plt.ylabel('retention rate')\n",
        "plt.title('retention rate in Iceland')"
      ]
    },
    {
      "cell_type": "markdown",
      "id": "30d3240d",
      "metadata": {
        "id": "30d3240d",
        "papermill": {
          "duration": 0.034646,
          "end_time": "2022-09-16T18:59:27.541171",
          "exception": false,
          "start_time": "2022-09-16T18:59:27.506525",
          "status": "completed"
        },
        "tags": []
      },
      "source": [
        "### EIRE"
      ]
    },
    {
      "cell_type": "code",
      "execution_count": null,
      "id": "a095c790",
      "metadata": {
        "execution": {
          "iopub.execute_input": "2022-09-16T18:59:27.614270Z",
          "iopub.status.busy": "2022-09-16T18:59:27.613910Z",
          "iopub.status.idle": "2022-09-16T18:59:28.113545Z",
          "shell.execute_reply": "2022-09-16T18:59:28.112997Z"
        },
        "id": "a095c790",
        "papermill": {
          "duration": 0.538358,
          "end_time": "2022-09-16T18:59:28.115483",
          "exception": false,
          "start_time": "2022-09-16T18:59:27.577125",
          "status": "completed"
        },
        "tags": []
      },
      "outputs": [],
      "source": [
        "# filtering records for EIRE only\n",
        "dfEIRE = data[data['Country']=='EIRE']\n",
        "\n",
        "# drop irrelevant columns and duplicate records\n",
        "dfEIRE = dfEIRE[['CustomerID', 'InvoiceNo', 'InvoiceDate']].drop_duplicates()\n",
        "\n",
        "# order month\n",
        "dfEIRE['order_month'] = dfEIRE['InvoiceDate'].dt.to_period('M')\n",
        "\n",
        "# first purchase date for that customer\n",
        "dfEIRE['cohort'] = dfEIRE.groupby('CustomerID')['InvoiceDate'] \\\n",
        "                 .transform('min') \\\n",
        "                 .dt.to_period('M')\n",
        "\n",
        "# a dataframe with cohort, order_month, n_customers, and period number\n",
        "df_cohort = dfEIRE.groupby(['cohort', 'order_month']) \\\n",
        "              .agg(n_customers=('CustomerID', 'nunique')) \\\n",
        "              .reset_index(drop=False)\n",
        "\n",
        "df_cohort['period_number'] = (df_cohort.order_month - df_cohort.cohort).apply(attrgetter('n'))\n",
        "\n",
        "# pivot the df_cohort\n",
        "cohort_pivot = df_cohort.pivot_table(index = 'cohort',\n",
        "                                     columns = 'period_number',\n",
        "                                     values = 'n_customers')\n",
        "\n",
        "# calculate retention matrix\n",
        "cohort_size = cohort_pivot.iloc[:,0]\n",
        "retention_matrix = cohort_pivot.divide(cohort_size, axis = 0)\n",
        "\n",
        "\n",
        "# plot the retenton matrix\n",
        "with sns.axes_style(\"white\"):\n",
        "    fig, ax = plt.subplots(1, 2, figsize=(12, 8), sharey=True, gridspec_kw={'width_ratios': [1, 11]})\n",
        "    \n",
        "    # retention matrix\n",
        "    sns.heatmap(retention_matrix, \n",
        "                mask=retention_matrix.isnull(), \n",
        "                annot=True, \n",
        "                fmt='.0%', \n",
        "                cmap='RdYlGn', \n",
        "                ax=ax[1])\n",
        "    ax[1].set_title('Monthly Cohorts: User Retention in EIRE', fontsize=16)\n",
        "    ax[1].set(xlabel='# of periods',\n",
        "              ylabel='')\n",
        "\n",
        "    # cohort size\n",
        "    cohort_size_df = pd.DataFrame(cohort_size).rename(columns={0: 'cohort_size'})\n",
        "    white_cmap = mcolors.ListedColormap(['white'])\n",
        "    sns.heatmap(cohort_size_df, \n",
        "                annot=True, \n",
        "                cbar=False, \n",
        "                fmt='g', \n",
        "                cmap=white_cmap, \n",
        "                ax=ax[0])\n",
        "\n",
        "    fig.tight_layout()"
      ]
    },
    {
      "cell_type": "code",
      "execution_count": null,
      "id": "201960e9",
      "metadata": {
        "execution": {
          "iopub.execute_input": "2022-09-16T18:59:28.191328Z",
          "iopub.status.busy": "2022-09-16T18:59:28.190651Z",
          "iopub.status.idle": "2022-09-16T18:59:28.349045Z",
          "shell.execute_reply": "2022-09-16T18:59:28.347687Z"
        },
        "id": "201960e9",
        "papermill": {
          "duration": 0.198559,
          "end_time": "2022-09-16T18:59:28.350979",
          "exception": false,
          "start_time": "2022-09-16T18:59:28.152420",
          "status": "completed"
        },
        "tags": []
      },
      "outputs": [],
      "source": [
        "plt.plot(retention_matrix.mean())\n",
        "plt.xlabel('# of periods')\n",
        "plt.ylabel('retention rate')\n",
        "plt.title('retention rate in EIRE')"
      ]
    },
    {
      "cell_type": "markdown",
      "id": "c94c0d54",
      "metadata": {
        "id": "c94c0d54",
        "papermill": {
          "duration": 0.03615,
          "end_time": "2022-09-16T18:59:28.423925",
          "exception": false,
          "start_time": "2022-09-16T18:59:28.387775",
          "status": "completed"
        },
        "tags": []
      },
      "source": [
        "## Customer Segmentation menggunakan RFM modeling"
      ]
    },
    {
      "cell_type": "markdown",
      "id": "408a5ad6",
      "metadata": {
        "id": "408a5ad6",
        "papermill": {
          "duration": 0.035252,
          "end_time": "2022-09-16T18:59:28.494942",
          "exception": false,
          "start_time": "2022-09-16T18:59:28.459690",
          "status": "completed"
        },
        "tags": []
      },
      "source": [
        "Sebelum kita dapat melanjutkan, kita membutuhkan tanggal patokan untuk menghitung recency, yaitu tanggal analisis. \n",
        "Recency = Tanggal Analisis - Tanggal Transaksi\n",
        "\n",
        "untuk tujuan penyederhanaan, kita dapat mengasumsikan bahwa analisis dimulai 1 hari setelah transaksi terakhir."
      ]
    },
    {
      "cell_type": "code",
      "execution_count": null,
      "id": "ffcdcadc",
      "metadata": {
        "execution": {
          "iopub.execute_input": "2022-09-16T18:59:28.568402Z",
          "iopub.status.busy": "2022-09-16T18:59:28.568071Z",
          "iopub.status.idle": "2022-09-16T18:59:28.575827Z",
          "shell.execute_reply": "2022-09-16T18:59:28.573946Z"
        },
        "id": "ffcdcadc",
        "papermill": {
          "duration": 0.047821,
          "end_time": "2022-09-16T18:59:28.578680",
          "exception": false,
          "start_time": "2022-09-16T18:59:28.530859",
          "status": "completed"
        },
        "tags": []
      },
      "outputs": [],
      "source": [
        "last_txn_date= data[\"InvoiceDate\"].max()\n",
        "analysis_date= last_txn_date + dt.timedelta(days = 1)"
      ]
    },
    {
      "cell_type": "code",
      "execution_count": null,
      "id": "a89f7fa5",
      "metadata": {
        "execution": {
          "iopub.execute_input": "2022-09-16T18:59:28.653981Z",
          "iopub.status.busy": "2022-09-16T18:59:28.653645Z",
          "iopub.status.idle": "2022-09-16T18:59:29.704453Z",
          "shell.execute_reply": "2022-09-16T18:59:29.702761Z"
        },
        "id": "a89f7fa5",
        "papermill": {
          "duration": 1.092044,
          "end_time": "2022-09-16T18:59:29.707168",
          "exception": false,
          "start_time": "2022-09-16T18:59:28.615124",
          "status": "completed"
        },
        "tags": []
      },
      "outputs": [],
      "source": [
        "rfm = data.groupby(\"CustomerID\").agg({\"InvoiceNo\": [lambda Frequency: Frequency.nunique()],\"TotalPrice\": lambda TotalMoney: TotalMoney.sum(),\"InvoiceDate\": [lambda FinalOrder: (analysis_date - FinalOrder.max()).days]})\n",
        "rfm.head()"
      ]
    },
    {
      "cell_type": "code",
      "execution_count": null,
      "id": "f7974867",
      "metadata": {
        "execution": {
          "iopub.execute_input": "2022-09-16T18:59:29.781944Z",
          "iopub.status.busy": "2022-09-16T18:59:29.781593Z",
          "iopub.status.idle": "2022-09-16T18:59:29.801351Z",
          "shell.execute_reply": "2022-09-16T18:59:29.800168Z"
        },
        "id": "f7974867",
        "papermill": {
          "duration": 0.059206,
          "end_time": "2022-09-16T18:59:29.803051",
          "exception": false,
          "start_time": "2022-09-16T18:59:29.743845",
          "status": "completed"
        },
        "tags": []
      },
      "outputs": [],
      "source": [
        "rfm = rfm.reset_index()\n",
        "rfm"
      ]
    },
    {
      "cell_type": "code",
      "execution_count": null,
      "id": "49f07c0a",
      "metadata": {
        "execution": {
          "iopub.execute_input": "2022-09-16T18:59:29.876192Z",
          "iopub.status.busy": "2022-09-16T18:59:29.875780Z",
          "iopub.status.idle": "2022-09-16T18:59:29.890395Z",
          "shell.execute_reply": "2022-09-16T18:59:29.888962Z"
        },
        "id": "49f07c0a",
        "papermill": {
          "duration": 0.053677,
          "end_time": "2022-09-16T18:59:29.892480",
          "exception": false,
          "start_time": "2022-09-16T18:59:29.838803",
          "status": "completed"
        },
        "tags": []
      },
      "outputs": [],
      "source": [
        "rfm.columns = [\"customer_id\", \"frequency\", \"monetary\", \"recency\"]\n",
        "rfm.head()"
      ]
    },
    {
      "cell_type": "code",
      "execution_count": null,
      "id": "0a5d4f3e",
      "metadata": {
        "execution": {
          "iopub.execute_input": "2022-09-16T18:59:29.967555Z",
          "iopub.status.busy": "2022-09-16T18:59:29.967218Z",
          "iopub.status.idle": "2022-09-16T18:59:29.975294Z",
          "shell.execute_reply": "2022-09-16T18:59:29.973655Z"
        },
        "id": "0a5d4f3e",
        "papermill": {
          "duration": 0.048052,
          "end_time": "2022-09-16T18:59:29.977562",
          "exception": false,
          "start_time": "2022-09-16T18:59:29.929510",
          "status": "completed"
        },
        "tags": []
      },
      "outputs": [],
      "source": [
        "len(rfm)"
      ]
    },
    {
      "cell_type": "code",
      "execution_count": null,
      "id": "46702528",
      "metadata": {
        "execution": {
          "iopub.execute_input": "2022-09-16T18:59:30.053274Z",
          "iopub.status.busy": "2022-09-16T18:59:30.052873Z",
          "iopub.status.idle": "2022-09-16T18:59:30.076615Z",
          "shell.execute_reply": "2022-09-16T18:59:30.075804Z"
        },
        "id": "46702528",
        "papermill": {
          "duration": 0.063678,
          "end_time": "2022-09-16T18:59:30.078338",
          "exception": false,
          "start_time": "2022-09-16T18:59:30.014660",
          "status": "completed"
        },
        "tags": []
      },
      "outputs": [],
      "source": [
        "rfm['R_score'] = rfm['recency'].rank(ascending=False)\n",
        "rfm['F_score'] = rfm['frequency'].rank(ascending=True)\n",
        "rfm['M_score'] = rfm['monetary'].rank(ascending=True)\n",
        " \n",
        "# normalizing the rank of the customers\n",
        "rfm['R_score_norm'] = (rfm['R_score']/rfm['R_score'].max())*100\n",
        "rfm['F_score_norm'] = (rfm['F_score']/rfm['F_score'].max())*100\n",
        "rfm['M_score_norm'] = (rfm['M_score']/rfm['M_score'].max())*100\n",
        " \n",
        "rfm.drop(columns=['R_score', 'F_score', 'M_score'], inplace=True)\n",
        " \n",
        "rfm.head()\n",
        "\n"
      ]
    },
    {
      "cell_type": "markdown",
      "id": "6c4e0bc4",
      "metadata": {
        "id": "6c4e0bc4",
        "papermill": {
          "duration": 0.036901,
          "end_time": "2022-09-16T18:59:30.151458",
          "exception": false,
          "start_time": "2022-09-16T18:59:30.114557",
          "status": "completed"
        },
        "tags": []
      },
      "source": [
        "Untuk skenario ini, kita dapat mempertimbangkan skor RFM sebagai rata-rata artimetrik dari Skor R, F, dan M untuk mempermudah, dengan mengasumsikan ketiganya memiliki tingkat kepentingan yang sama."
      ]
    },
    {
      "cell_type": "code",
      "execution_count": 36,
      "id": "fd3003ba",
      "metadata": {
        "execution": {
          "iopub.execute_input": "2022-09-16T18:59:30.227443Z",
          "iopub.status.busy": "2022-09-16T18:59:30.227136Z",
          "iopub.status.idle": "2022-09-16T18:59:30.241444Z",
          "shell.execute_reply": "2022-09-16T18:59:30.240555Z"
        },
        "id": "fd3003ba",
        "outputId": "5acb5a25-e63e-4dac-f57a-53a15962cdf4",
        "papermill": {
          "duration": 0.054788,
          "end_time": "2022-09-16T18:59:30.243204",
          "exception": false,
          "start_time": "2022-09-16T18:59:30.188416",
          "status": "completed"
        },
        "tags": [],
        "colab": {
          "base_uri": "https://localhost:8080/",
          "height": 183
        }
      },
      "outputs": [
        {
          "output_type": "error",
          "ename": "NameError",
          "evalue": "ignored",
          "traceback": [
            "\u001b[0;31m---------------------------------------------------------------------------\u001b[0m",
            "\u001b[0;31mNameError\u001b[0m                                 Traceback (most recent call last)",
            "\u001b[0;32m<ipython-input-36-6b2e3f4d9ac7>\u001b[0m in \u001b[0;36m<cell line: 1>\u001b[0;34m()\u001b[0m\n\u001b[0;32m----> 1\u001b[0;31m \u001b[0mrfm\u001b[0m\u001b[0;34m[\u001b[0m\u001b[0;34m'Final Score'\u001b[0m\u001b[0;34m]\u001b[0m\u001b[0;34m=\u001b[0m \u001b[0mround\u001b[0m\u001b[0;34m(\u001b[0m\u001b[0;34m(\u001b[0m\u001b[0mrfm\u001b[0m\u001b[0;34m[\u001b[0m\u001b[0;34m'R_score_norm'\u001b[0m\u001b[0;34m]\u001b[0m\u001b[0;34m+\u001b[0m\u001b[0mrfm\u001b[0m\u001b[0;34m[\u001b[0m\u001b[0;34m'F_score_norm'\u001b[0m\u001b[0;34m]\u001b[0m\u001b[0;34m+\u001b[0m\u001b[0mrfm\u001b[0m\u001b[0;34m[\u001b[0m\u001b[0;34m'M_score_norm'\u001b[0m\u001b[0;34m]\u001b[0m\u001b[0;34m)\u001b[0m\u001b[0;34m/\u001b[0m\u001b[0;36m3\u001b[0m\u001b[0;34m,\u001b[0m\u001b[0;36m2\u001b[0m\u001b[0;34m)\u001b[0m\u001b[0;34m\u001b[0m\u001b[0;34m\u001b[0m\u001b[0m\n\u001b[0m\u001b[1;32m      2\u001b[0m \u001b[0mrfm\u001b[0m\u001b[0;34m.\u001b[0m\u001b[0mhead\u001b[0m\u001b[0;34m(\u001b[0m\u001b[0;34m)\u001b[0m\u001b[0;34m\u001b[0m\u001b[0;34m\u001b[0m\u001b[0m\n",
            "\u001b[0;31mNameError\u001b[0m: name 'rfm' is not defined"
          ]
        }
      ],
      "source": [
        "rfm['Final Score']= round((rfm['R_score_norm']+rfm['F_score_norm']+rfm['M_score_norm'])/3,2)\n",
        "rfm.head()"
      ]
    },
    {
      "cell_type": "code",
      "execution_count": null,
      "id": "173444cd",
      "metadata": {
        "execution": {
          "iopub.execute_input": "2022-09-16T18:59:30.319779Z",
          "iopub.status.busy": "2022-09-16T18:59:30.319468Z",
          "iopub.status.idle": "2022-09-16T18:59:30.337364Z",
          "shell.execute_reply": "2022-09-16T18:59:30.336338Z"
        },
        "id": "173444cd",
        "papermill": {
          "duration": 0.059434,
          "end_time": "2022-09-16T18:59:30.339230",
          "exception": false,
          "start_time": "2022-09-16T18:59:30.279796",
          "status": "completed"
        },
        "tags": []
      },
      "outputs": [],
      "source": [
        "rfm['Segment']= rfm['Final Score'].apply(lambda x: 'Top Customer' if (x >=90) else ('High Value Customer' if (x >=75 and x<90) else('Medium Value Customer' if (x >=50 and x<75) else('Low Value Customer' if (x >=30 and x<50) else 'Lost Customer'))))\n",
        "rfm.head()"
      ]
    },
    {
      "cell_type": "code",
      "execution_count": null,
      "id": "1f2649b9",
      "metadata": {
        "execution": {
          "iopub.execute_input": "2022-09-16T18:59:30.421110Z",
          "iopub.status.busy": "2022-09-16T18:59:30.420790Z",
          "iopub.status.idle": "2022-09-16T18:59:30.566914Z",
          "shell.execute_reply": "2022-09-16T18:59:30.566142Z"
        },
        "id": "1f2649b9",
        "papermill": {
          "duration": 0.189835,
          "end_time": "2022-09-16T18:59:30.569094",
          "exception": false,
          "start_time": "2022-09-16T18:59:30.379259",
          "status": "completed"
        },
        "tags": []
      },
      "outputs": [],
      "source": [
        "plt.figure(figsize=(15,7))\n",
        "sns.countplot(rfm['Segment'])\n",
        "plt.xlabel(\"Number of Customers by category\")\n",
        "plt.show()"
      ]
    }
  ],
  "metadata": {
    "kernelspec": {
      "display_name": "Python 3",
      "language": "python",
      "name": "python3"
    },
    "language_info": {
      "codemirror_mode": {
        "name": "ipython",
        "version": 3
      },
      "file_extension": ".py",
      "mimetype": "text/x-python",
      "name": "python",
      "nbconvert_exporter": "python",
      "pygments_lexer": "ipython3",
      "version": "3.11.1"
    },
    "papermill": {
      "default_parameters": {},
      "duration": 34.694856,
      "end_time": "2022-09-16T18:59:31.405700",
      "environment_variables": {},
      "exception": null,
      "input_path": "__notebook__.ipynb",
      "output_path": "__notebook__.ipynb",
      "parameters": {},
      "start_time": "2022-09-16T18:58:56.710844",
      "version": "2.3.4"
    },
    "colab": {
      "provenance": []
    }
  },
  "nbformat": 4,
  "nbformat_minor": 5
}